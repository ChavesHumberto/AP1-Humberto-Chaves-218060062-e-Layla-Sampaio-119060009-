{
  "nbformat": 4,
  "nbformat_minor": 0,
  "metadata": {
    "colab": {
      "provenance": [],
      "collapsed_sections": [
        "4RiTLErxMefk"
      ]
    },
    "kernelspec": {
      "name": "python3",
      "display_name": "Python 3"
    },
    "language_info": {
      "name": "python"
    }
  },
  "cells": [
    {
      "cell_type": "markdown",
      "metadata": {
        "id": "PwEtzVJF0ifp"
      },
      "source": [
        "# AP 1 - Humberto Chaves (218060062) e Layla Sampaio (119060009)"
      ]
    },
    {
      "cell_type": "markdown",
      "metadata": {
        "id": "a7KGsFhiJVnK"
      },
      "source": [
        "Preparandinho o terreno: nessa primeira parte, estamos importando tudo que será relevante para nosso trabalho."
      ]
    },
    {
      "cell_type": "code",
      "metadata": {
        "id": "vOGrn0es0f6K"
      },
      "source": [
        "import pandas as pd\n",
        "import numpy as np\n",
        "import seaborn as sns\n",
        "import missingno as msno\n",
        "from scipy import stats\n",
        "import matplotlib.pyplot as plt\n",
        "import random as rnd\n",
        "from sklearn.impute import SimpleImputer\n",
        "from sklearn.feature_selection import RFE\n",
        "from sklearn.linear_model import LogisticRegression\n",
        "%matplotlib inline"
      ],
      "execution_count": null,
      "outputs": []
    },
    {
      "cell_type": "markdown",
      "metadata": {
        "id": "4RiTLErxMefk"
      },
      "source": [
        "### Roteiro da nossa análise:\n",
        "Para começo de conversa, vamos começar buscando *missing values*. Depois, vamos fazer a redução de características para tornar a análise mais prática. Em sequência, buscaremos *outliers*."
      ]
    },
    {
      "cell_type": "markdown",
      "metadata": {
        "id": "SGnic8K-Fr4C"
      },
      "source": [
        "## Dataset 1"
      ]
    },
    {
      "cell_type": "markdown",
      "metadata": {
        "id": "lpPjDqw0EF9d"
      },
      "source": [
        "### Informações básicas\n"
      ]
    },
    {
      "cell_type": "markdown",
      "metadata": {
        "id": "ib2Ji0us4Q2s"
      },
      "source": [
        "Nessa primeira parte, estamos importando o dataset que colocamos na pasta \"sample_data\" e vendo seu formato, suas 5 primeiras linhas, informações sobre ele e se temos algum valor duplicado."
      ]
    },
    {
      "cell_type": "code",
      "metadata": {
        "id": "EeM860jenwRj"
      },
      "source": [
        "dataset = pd.read_csv('sample_data/UFFdatasetLab1.csv')"
      ],
      "execution_count": null,
      "outputs": []
    },
    {
      "cell_type": "markdown",
      "metadata": {
        "id": "VV6uSAUA5XgE"
      },
      "source": [
        "Nosso primeiro dataset tem 856 linhas e 33 colunas."
      ]
    },
    {
      "cell_type": "code",
      "metadata": {
        "id": "dQZ8bqh36ACk",
        "colab": {
          "base_uri": "https://localhost:8080/"
        },
        "outputId": "e6bf544e-835c-48db-8ded-c288ea315d02"
      },
      "source": [
        "dataset.shape"
      ],
      "execution_count": null,
      "outputs": [
        {
          "output_type": "execute_result",
          "data": {
            "text/plain": [
              "(856, 33)"
            ]
          },
          "metadata": {},
          "execution_count": 592
        }
      ]
    },
    {
      "cell_type": "code",
      "metadata": {
        "id": "Jw4dLrL7LJhM",
        "colab": {
          "base_uri": "https://localhost:8080/",
          "height": 226
        },
        "outputId": "bea6e5ea-f488-4637-99b7-0d1df67d2ec6"
      },
      "source": [
        "dataset.head()"
      ],
      "execution_count": null,
      "outputs": [
        {
          "output_type": "execute_result",
          "data": {
            "text/html": [
              "<div>\n",
              "<style scoped>\n",
              "    .dataframe tbody tr th:only-of-type {\n",
              "        vertical-align: middle;\n",
              "    }\n",
              "\n",
              "    .dataframe tbody tr th {\n",
              "        vertical-align: top;\n",
              "    }\n",
              "\n",
              "    .dataframe thead th {\n",
              "        text-align: right;\n",
              "    }\n",
              "</style>\n",
              "<table border=\"1\" class=\"dataframe\">\n",
              "  <thead>\n",
              "    <tr style=\"text-align: right;\">\n",
              "      <th></th>\n",
              "      <th>WBN_GC_L_0.25</th>\n",
              "      <th>WBN_GC_H_0.25</th>\n",
              "      <th>WBN_GC_L_0.50</th>\n",
              "      <th>WBN_GC_H_0.50</th>\n",
              "      <th>WBN_GC_L_0.75</th>\n",
              "      <th>WBN_GC_H_0.75</th>\n",
              "      <th>WBN_GC_L_1.00</th>\n",
              "      <th>WBN_GC_H_1.00</th>\n",
              "      <th>WBN_EN_L_0.25</th>\n",
              "      <th>WBN_EN_H_0.25</th>\n",
              "      <th>WBN_EN_L_0.50</th>\n",
              "      <th>WBN_EN_H_0.50</th>\n",
              "      <th>WBN_EN_L_0.75</th>\n",
              "      <th>WBN_EN_H_0.75</th>\n",
              "      <th>WBN_EN_L_1.00</th>\n",
              "      <th>WBN_EN_H_1.00</th>\n",
              "      <th>WBN_LP_L_0.25</th>\n",
              "      <th>WBN_LP_H_0.25</th>\n",
              "      <th>WBN_LP_L_0.50</th>\n",
              "      <th>WBN_LP_H_0.50</th>\n",
              "      <th>WBN_LP_L_0.75</th>\n",
              "      <th>WBN_LP_H_0.75</th>\n",
              "      <th>WBN_LP_L_1.00</th>\n",
              "      <th>WBN_LP_H_1.00</th>\n",
              "      <th>XLogP</th>\n",
              "      <th>PSA</th>\n",
              "      <th>NumRot</th>\n",
              "      <th>NumHBA</th>\n",
              "      <th>NumHBD</th>\n",
              "      <th>MW</th>\n",
              "      <th>BBB</th>\n",
              "      <th>BadGroup</th>\n",
              "      <th>Outcome</th>\n",
              "    </tr>\n",
              "  </thead>\n",
              "  <tbody>\n",
              "    <tr>\n",
              "      <th>0</th>\n",
              "      <td>-2.3941</td>\n",
              "      <td>1.8819</td>\n",
              "      <td>-2.5208</td>\n",
              "      <td>2.3536</td>\n",
              "      <td>-2.7698</td>\n",
              "      <td>3.1048</td>\n",
              "      <td>-3.4568</td>\n",
              "      <td>3.9734</td>\n",
              "      <td>-0.8412</td>\n",
              "      <td>1.2385</td>\n",
              "      <td>-1.7103</td>\n",
              "      <td>2.0127</td>\n",
              "      <td>-2.5874</td>\n",
              "      <td>2.8944</td>\n",
              "      <td>-3.4677</td>\n",
              "      <td>3.7962</td>\n",
              "      <td>-0.8850</td>\n",
              "      <td>1.1079</td>\n",
              "      <td>-1.6940</td>\n",
              "      <td>1.9939</td>\n",
              "      <td>-2.5592</td>\n",
              "      <td>2.8987</td>\n",
              "      <td>-3.4355</td>\n",
              "      <td>3.8086</td>\n",
              "      <td>4.924</td>\n",
              "      <td>60.45</td>\n",
              "      <td>6</td>\n",
              "      <td>4</td>\n",
              "      <td>1</td>\n",
              "      <td>362.857</td>\n",
              "      <td>1</td>\n",
              "      <td>0</td>\n",
              "      <td>Active</td>\n",
              "    </tr>\n",
              "    <tr>\n",
              "      <th>1</th>\n",
              "      <td>-2.3342</td>\n",
              "      <td>2.3811</td>\n",
              "      <td>-2.6012</td>\n",
              "      <td>2.7420</td>\n",
              "      <td>-3.0632</td>\n",
              "      <td>3.4052</td>\n",
              "      <td>-3.7360</td>\n",
              "      <td>4.2833</td>\n",
              "      <td>-0.8664</td>\n",
              "      <td>2.4012</td>\n",
              "      <td>-1.7694</td>\n",
              "      <td>2.6741</td>\n",
              "      <td>-2.6826</td>\n",
              "      <td>3.1567</td>\n",
              "      <td>-3.6000</td>\n",
              "      <td>4.0094</td>\n",
              "      <td>-0.9068</td>\n",
              "      <td>1.1629</td>\n",
              "      <td>-1.7613</td>\n",
              "      <td>2.0906</td>\n",
              "      <td>-2.6669</td>\n",
              "      <td>3.0370</td>\n",
              "      <td>-3.5822</td>\n",
              "      <td>3.9886</td>\n",
              "      <td>4.954</td>\n",
              "      <td>50.44</td>\n",
              "      <td>2</td>\n",
              "      <td>2</td>\n",
              "      <td>1</td>\n",
              "      <td>320.266</td>\n",
              "      <td>1</td>\n",
              "      <td>0</td>\n",
              "      <td>Active</td>\n",
              "    </tr>\n",
              "    <tr>\n",
              "      <th>2</th>\n",
              "      <td>-1.4709</td>\n",
              "      <td>2.0782</td>\n",
              "      <td>-1.8538</td>\n",
              "      <td>2.4877</td>\n",
              "      <td>-2.4116</td>\n",
              "      <td>3.0664</td>\n",
              "      <td>-3.1338</td>\n",
              "      <td>3.8454</td>\n",
              "      <td>-0.7940</td>\n",
              "      <td>1.2701</td>\n",
              "      <td>-1.5962</td>\n",
              "      <td>2.0100</td>\n",
              "      <td>-2.4012</td>\n",
              "      <td>2.8430</td>\n",
              "      <td>-3.2077</td>\n",
              "      <td>3.7018</td>\n",
              "      <td>-0.8780</td>\n",
              "      <td>1.0694</td>\n",
              "      <td>-1.6188</td>\n",
              "      <td>1.8963</td>\n",
              "      <td>-2.3950</td>\n",
              "      <td>2.7538</td>\n",
              "      <td>-3.1842</td>\n",
              "      <td>3.6222</td>\n",
              "      <td>1.399</td>\n",
              "      <td>103.22</td>\n",
              "      <td>3</td>\n",
              "      <td>6</td>\n",
              "      <td>1</td>\n",
              "      <td>376.459</td>\n",
              "      <td>0</td>\n",
              "      <td>1</td>\n",
              "      <td>Active</td>\n",
              "    </tr>\n",
              "    <tr>\n",
              "      <th>3</th>\n",
              "      <td>-1.4722</td>\n",
              "      <td>1.9812</td>\n",
              "      <td>-1.7911</td>\n",
              "      <td>2.3885</td>\n",
              "      <td>-2.4193</td>\n",
              "      <td>2.9938</td>\n",
              "      <td>-3.2212</td>\n",
              "      <td>3.8043</td>\n",
              "      <td>-0.8036</td>\n",
              "      <td>1.2421</td>\n",
              "      <td>-1.6093</td>\n",
              "      <td>1.9642</td>\n",
              "      <td>-2.4159</td>\n",
              "      <td>2.8119</td>\n",
              "      <td>-3.2230</td>\n",
              "      <td>3.6865</td>\n",
              "      <td>-0.9124</td>\n",
              "      <td>1.1344</td>\n",
              "      <td>-1.5729</td>\n",
              "      <td>1.9904</td>\n",
              "      <td>-2.2973</td>\n",
              "      <td>2.8646</td>\n",
              "      <td>-3.0552</td>\n",
              "      <td>3.7461</td>\n",
              "      <td>4.721</td>\n",
              "      <td>137.73</td>\n",
              "      <td>7</td>\n",
              "      <td>6</td>\n",
              "      <td>3</td>\n",
              "      <td>442.581</td>\n",
              "      <td>0</td>\n",
              "      <td>0</td>\n",
              "      <td>Active</td>\n",
              "    </tr>\n",
              "    <tr>\n",
              "      <th>4</th>\n",
              "      <td>-2.2448</td>\n",
              "      <td>1.9814</td>\n",
              "      <td>-2.3705</td>\n",
              "      <td>2.3951</td>\n",
              "      <td>-2.6219</td>\n",
              "      <td>3.0475</td>\n",
              "      <td>-3.1991</td>\n",
              "      <td>3.8418</td>\n",
              "      <td>-0.7988</td>\n",
              "      <td>1.2426</td>\n",
              "      <td>-1.5995</td>\n",
              "      <td>1.9529</td>\n",
              "      <td>-2.4012</td>\n",
              "      <td>2.7843</td>\n",
              "      <td>-3.2035</td>\n",
              "      <td>3.6445</td>\n",
              "      <td>-0.8770</td>\n",
              "      <td>1.1364</td>\n",
              "      <td>-1.5570</td>\n",
              "      <td>1.9837</td>\n",
              "      <td>-2.2671</td>\n",
              "      <td>2.8460</td>\n",
              "      <td>-3.0147</td>\n",
              "      <td>3.7151</td>\n",
              "      <td>3.912</td>\n",
              "      <td>120.94</td>\n",
              "      <td>7</td>\n",
              "      <td>6</td>\n",
              "      <td>2</td>\n",
              "      <td>401.484</td>\n",
              "      <td>0</td>\n",
              "      <td>0</td>\n",
              "      <td>Active</td>\n",
              "    </tr>\n",
              "  </tbody>\n",
              "</table>\n",
              "</div>"
            ],
            "text/plain": [
              "   WBN_GC_L_0.25  WBN_GC_H_0.25  WBN_GC_L_0.50  ...  BBB  BadGroup  Outcome\n",
              "0        -2.3941         1.8819        -2.5208  ...    1         0   Active\n",
              "1        -2.3342         2.3811        -2.6012  ...    1         0   Active\n",
              "2        -1.4709         2.0782        -1.8538  ...    0         1   Active\n",
              "3        -1.4722         1.9812        -1.7911  ...    0         0   Active\n",
              "4        -2.2448         1.9814        -2.3705  ...    0         0   Active\n",
              "\n",
              "[5 rows x 33 columns]"
            ]
          },
          "metadata": {},
          "execution_count": 593
        }
      ]
    },
    {
      "cell_type": "code",
      "metadata": {
        "id": "lFMIpAPdhQ0A"
      },
      "source": [],
      "execution_count": null,
      "outputs": []
    },
    {
      "cell_type": "code",
      "metadata": {
        "id": "kYtcPAX7TlPO",
        "colab": {
          "base_uri": "https://localhost:8080/"
        },
        "outputId": "665c84b0-18ef-48ab-82f3-5f146d19fc77"
      },
      "source": [
        "dataset.info()"
      ],
      "execution_count": null,
      "outputs": [
        {
          "output_type": "stream",
          "name": "stdout",
          "text": [
            "<class 'pandas.core.frame.DataFrame'>\n",
            "RangeIndex: 856 entries, 0 to 855\n",
            "Data columns (total 33 columns):\n",
            " #   Column         Non-Null Count  Dtype  \n",
            "---  ------         --------------  -----  \n",
            " 0   WBN_GC_L_0.25  856 non-null    float64\n",
            " 1   WBN_GC_H_0.25  856 non-null    float64\n",
            " 2   WBN_GC_L_0.50  856 non-null    float64\n",
            " 3   WBN_GC_H_0.50  856 non-null    float64\n",
            " 4   WBN_GC_L_0.75  856 non-null    float64\n",
            " 5   WBN_GC_H_0.75  856 non-null    float64\n",
            " 6   WBN_GC_L_1.00  856 non-null    float64\n",
            " 7   WBN_GC_H_1.00  856 non-null    float64\n",
            " 8   WBN_EN_L_0.25  856 non-null    float64\n",
            " 9   WBN_EN_H_0.25  856 non-null    float64\n",
            " 10  WBN_EN_L_0.50  856 non-null    float64\n",
            " 11  WBN_EN_H_0.50  856 non-null    float64\n",
            " 12  WBN_EN_L_0.75  856 non-null    float64\n",
            " 13  WBN_EN_H_0.75  856 non-null    float64\n",
            " 14  WBN_EN_L_1.00  856 non-null    float64\n",
            " 15  WBN_EN_H_1.00  856 non-null    float64\n",
            " 16  WBN_LP_L_0.25  856 non-null    float64\n",
            " 17  WBN_LP_H_0.25  856 non-null    float64\n",
            " 18  WBN_LP_L_0.50  856 non-null    float64\n",
            " 19  WBN_LP_H_0.50  856 non-null    float64\n",
            " 20  WBN_LP_L_0.75  856 non-null    float64\n",
            " 21  WBN_LP_H_0.75  856 non-null    float64\n",
            " 22  WBN_LP_L_1.00  856 non-null    float64\n",
            " 23  WBN_LP_H_1.00  856 non-null    float64\n",
            " 24  XLogP          856 non-null    float64\n",
            " 25  PSA            856 non-null    float64\n",
            " 26  NumRot         856 non-null    int64  \n",
            " 27  NumHBA         856 non-null    int64  \n",
            " 28  NumHBD         856 non-null    int64  \n",
            " 29  MW             856 non-null    float64\n",
            " 30  BBB            856 non-null    int64  \n",
            " 31  BadGroup       856 non-null    int64  \n",
            " 32  Outcome        856 non-null    object \n",
            "dtypes: float64(27), int64(5), object(1)\n",
            "memory usage: 220.8+ KB\n"
          ]
        }
      ]
    },
    {
      "cell_type": "markdown",
      "metadata": {
        "id": "mKVIyPwM9fOy"
      },
      "source": [
        "Aqui podemos ver que não temos valores duplicados no dataset"
      ]
    },
    {
      "cell_type": "code",
      "metadata": {
        "id": "kynIMCq89kE_",
        "colab": {
          "base_uri": "https://localhost:8080/"
        },
        "outputId": "8cad3e00-efb9-4f8c-cac8-783acb9df9cf"
      },
      "source": [
        "dataset.duplicated().value_counts()"
      ],
      "execution_count": null,
      "outputs": [
        {
          "output_type": "execute_result",
          "data": {
            "text/plain": [
              "False    856\n",
              "dtype: int64"
            ]
          },
          "metadata": {},
          "execution_count": 595
        }
      ]
    },
    {
      "cell_type": "markdown",
      "metadata": {
        "id": "gQb6DNlg_jiA"
      },
      "source": [
        "### Busca por *missing values*"
      ]
    },
    {
      "cell_type": "markdown",
      "metadata": {
        "id": "w2xifN8X4m48"
      },
      "source": [
        "Aqui, vamos procurar e plotar valores nulos. A função *isna()* (is not available) retorna os valores ausentes no nosso dataset. Fizemos a aplicação da função *sum()* para ver o total de valores faltantes em cada coluna. Como não tivemos nenhum, nossa análise se tornou um pouco mais simples, pois não precisaremos tratá-los."
      ]
    },
    {
      "cell_type": "code",
      "metadata": {
        "id": "omLcbR8WYO_G",
        "colab": {
          "base_uri": "https://localhost:8080/"
        },
        "outputId": "ed5f93d3-d234-4f04-8e91-9537191fca72"
      },
      "source": [
        "dataset.isna().sum()"
      ],
      "execution_count": null,
      "outputs": [
        {
          "output_type": "execute_result",
          "data": {
            "text/plain": [
              "WBN_GC_L_0.25    0\n",
              "WBN_GC_H_0.25    0\n",
              "WBN_GC_L_0.50    0\n",
              "WBN_GC_H_0.50    0\n",
              "WBN_GC_L_0.75    0\n",
              "WBN_GC_H_0.75    0\n",
              "WBN_GC_L_1.00    0\n",
              "WBN_GC_H_1.00    0\n",
              "WBN_EN_L_0.25    0\n",
              "WBN_EN_H_0.25    0\n",
              "WBN_EN_L_0.50    0\n",
              "WBN_EN_H_0.50    0\n",
              "WBN_EN_L_0.75    0\n",
              "WBN_EN_H_0.75    0\n",
              "WBN_EN_L_1.00    0\n",
              "WBN_EN_H_1.00    0\n",
              "WBN_LP_L_0.25    0\n",
              "WBN_LP_H_0.25    0\n",
              "WBN_LP_L_0.50    0\n",
              "WBN_LP_H_0.50    0\n",
              "WBN_LP_L_0.75    0\n",
              "WBN_LP_H_0.75    0\n",
              "WBN_LP_L_1.00    0\n",
              "WBN_LP_H_1.00    0\n",
              "XLogP            0\n",
              "PSA              0\n",
              "NumRot           0\n",
              "NumHBA           0\n",
              "NumHBD           0\n",
              "MW               0\n",
              "BBB              0\n",
              "BadGroup         0\n",
              "Outcome          0\n",
              "dtype: int64"
            ]
          },
          "metadata": {},
          "execution_count": 596
        }
      ]
    },
    {
      "cell_type": "code",
      "metadata": {
        "id": "jD6zojGC5mrt",
        "colab": {
          "base_uri": "https://localhost:8080/",
          "height": 719
        },
        "outputId": "cfc472c3-0ec4-4d90-cebb-dc0d11d7c138"
      },
      "source": [
        "msno.matrix(dataset)"
      ],
      "execution_count": null,
      "outputs": [
        {
          "output_type": "execute_result",
          "data": {
            "text/plain": [
              "<matplotlib.axes._subplots.AxesSubplot at 0x7f508636e510>"
            ]
          },
          "metadata": {},
          "execution_count": 597
        },
        {
          "output_type": "display_data",
          "data": {
            "image/png": "[encoded data removed]",
            "text/plain": [
              "<Figure size 1800x720 with 2 Axes>"
            ]
          },
          "metadata": {
            "needs_background": "light"
          }
        }
      ]
    },
    {
      "cell_type": "markdown",
      "metadata": {
        "id": "O1hT5nhMYpIZ"
      },
      "source": [
        "### Redução de caracteristicas"
      ]
    },
    {
      "cell_type": "code",
      "metadata": {
        "id": "cSREfISJN48-",
        "colab": {
          "base_uri": "https://localhost:8080/"
        },
        "outputId": "2d39a952-fce8-46f5-9a50-baf943a8f4de"
      },
      "source": [
        "X=dataset.iloc[:,0:32]\n",
        "y=dataset.iloc[:,32]\n",
        "print(X.shape,y.shape)"
      ],
      "execution_count": null,
      "outputs": [
        {
          "output_type": "stream",
          "name": "stdout",
          "text": [
            "(856, 32) (856,)\n"
          ]
        }
      ]
    },
    {
      "cell_type": "code",
      "metadata": {
        "id": "gLYxMK0t-6Yu",
        "colab": {
          "base_uri": "https://localhost:8080/"
        },
        "outputId": "7d03a4a6-1e53-42d2-cd5b-f67422bc7529"
      },
      "source": [
        "X.info(0)"
      ],
      "execution_count": null,
      "outputs": [
        {
          "output_type": "stream",
          "name": "stdout",
          "text": [
            "<class 'pandas.core.frame.DataFrame'>\n",
            "RangeIndex: 856 entries, 0 to 855\n",
            "Data columns (total 32 columns):\n",
            " #   Column         Non-Null Count  Dtype  \n",
            "---  ------         --------------  -----  \n",
            " 0   WBN_GC_L_0.25  856 non-null    float64\n",
            " 1   WBN_GC_H_0.25  856 non-null    float64\n",
            " 2   WBN_GC_L_0.50  856 non-null    float64\n",
            " 3   WBN_GC_H_0.50  856 non-null    float64\n",
            " 4   WBN_GC_L_0.75  856 non-null    float64\n",
            " 5   WBN_GC_H_0.75  856 non-null    float64\n",
            " 6   WBN_GC_L_1.00  856 non-null    float64\n",
            " 7   WBN_GC_H_1.00  856 non-null    float64\n",
            " 8   WBN_EN_L_0.25  856 non-null    float64\n",
            " 9   WBN_EN_H_0.25  856 non-null    float64\n",
            " 10  WBN_EN_L_0.50  856 non-null    float64\n",
            " 11  WBN_EN_H_0.50  856 non-null    float64\n",
            " 12  WBN_EN_L_0.75  856 non-null    float64\n",
            " 13  WBN_EN_H_0.75  856 non-null    float64\n",
            " 14  WBN_EN_L_1.00  856 non-null    float64\n",
            " 15  WBN_EN_H_1.00  856 non-null    float64\n",
            " 16  WBN_LP_L_0.25  856 non-null    float64\n",
            " 17  WBN_LP_H_0.25  856 non-null    float64\n",
            " 18  WBN_LP_L_0.50  856 non-null    float64\n",
            " 19  WBN_LP_H_0.50  856 non-null    float64\n",
            " 20  WBN_LP_L_0.75  856 non-null    float64\n",
            " 21  WBN_LP_H_0.75  856 non-null    float64\n",
            " 22  WBN_LP_L_1.00  856 non-null    float64\n",
            " 23  WBN_LP_H_1.00  856 non-null    float64\n",
            " 24  XLogP          856 non-null    float64\n",
            " 25  PSA            856 non-null    float64\n",
            " 26  NumRot         856 non-null    int64  \n",
            " 27  NumHBA         856 non-null    int64  \n",
            " 28  NumHBD         856 non-null    int64  \n",
            " 29  MW             856 non-null    float64\n",
            " 30  BBB            856 non-null    int64  \n",
            " 31  BadGroup       856 non-null    int64  \n",
            "dtypes: float64(27), int64(5)\n",
            "memory usage: 214.1 KB\n"
          ]
        }
      ]
    },
    {
      "cell_type": "code",
      "metadata": {
        "id": "dAjD-NWKlt1_",
        "colab": {
          "base_uri": "https://localhost:8080/"
        },
        "outputId": "faca73dc-5de4-40aa-a940-ccf2da1ec936"
      },
      "source": [
        "model = LogisticRegression()\n",
        "rfe = RFE(model)\n",
        "fit = rfe.fit(X, y)"
      ],
      "execution_count": null,
      "outputs": [
        {
          "output_type": "stream",
          "name": "stderr",
          "text": [
            "/usr/local/lib/python3.7/dist-packages/sklearn/linear_model/_logistic.py:818: ConvergenceWarning: lbfgs failed to converge (status=1):\n",
            "STOP: TOTAL NO. of ITERATIONS REACHED LIMIT.\n",
            "\n",
            "Increase the number of iterations (max_iter) or scale the data as shown in:\n",
            "    https://scikit-learn.org/stable/modules/preprocessing.html\n",
            "Please also refer to the documentation for alternative solver options:\n",
            "    https://scikit-learn.org/stable/modules/linear_model.html#logistic-regression\n",
            "  extra_warning_msg=_LOGISTIC_SOLVER_CONVERGENCE_MSG,\n",
            "/usr/local/lib/python3.7/dist-packages/sklearn/linear_model/_logistic.py:818: ConvergenceWarning: lbfgs failed to converge (status=1):\n",
            "STOP: TOTAL NO. of ITERATIONS REACHED LIMIT.\n",
            "\n",
            "Increase the number of iterations (max_iter) or scale the data as shown in:\n",
            "    https://scikit-learn.org/stable/modules/preprocessing.html\n",
            "Please also refer to the documentation for alternative solver options:\n",
            "    https://scikit-learn.org/stable/modules/linear_model.html#logistic-regression\n",
            "  extra_warning_msg=_LOGISTIC_SOLVER_CONVERGENCE_MSG,\n",
            "/usr/local/lib/python3.7/dist-packages/sklearn/linear_model/_logistic.py:818: ConvergenceWarning: lbfgs failed to converge (status=1):\n",
            "STOP: TOTAL NO. of ITERATIONS REACHED LIMIT.\n",
            "\n",
            "Increase the number of iterations (max_iter) or scale the data as shown in:\n",
            "    https://scikit-learn.org/stable/modules/preprocessing.html\n",
            "Please also refer to the documentation for alternative solver options:\n",
            "    https://scikit-learn.org/stable/modules/linear_model.html#logistic-regression\n",
            "  extra_warning_msg=_LOGISTIC_SOLVER_CONVERGENCE_MSG,\n",
            "/usr/local/lib/python3.7/dist-packages/sklearn/linear_model/_logistic.py:818: ConvergenceWarning: lbfgs failed to converge (status=1):\n",
            "STOP: TOTAL NO. of ITERATIONS REACHED LIMIT.\n",
            "\n",
            "Increase the number of iterations (max_iter) or scale the data as shown in:\n",
            "    https://scikit-learn.org/stable/modules/preprocessing.html\n",
            "Please also refer to the documentation for alternative solver options:\n",
            "    https://scikit-learn.org/stable/modules/linear_model.html#logistic-regression\n",
            "  extra_warning_msg=_LOGISTIC_SOLVER_CONVERGENCE_MSG,\n",
            "/usr/local/lib/python3.7/dist-packages/sklearn/linear_model/_logistic.py:818: ConvergenceWarning: lbfgs failed to converge (status=1):\n",
            "STOP: TOTAL NO. of ITERATIONS REACHED LIMIT.\n",
            "\n",
            "Increase the number of iterations (max_iter) or scale the data as shown in:\n",
            "    https://scikit-learn.org/stable/modules/preprocessing.html\n",
            "Please also refer to the documentation for alternative solver options:\n",
            "    https://scikit-learn.org/stable/modules/linear_model.html#logistic-regression\n",
            "  extra_warning_msg=_LOGISTIC_SOLVER_CONVERGENCE_MSG,\n",
            "/usr/local/lib/python3.7/dist-packages/sklearn/linear_model/_logistic.py:818: ConvergenceWarning: lbfgs failed to converge (status=1):\n",
            "STOP: TOTAL NO. of ITERATIONS REACHED LIMIT.\n",
            "\n",
            "Increase the number of iterations (max_iter) or scale the data as shown in:\n",
            "    https://scikit-learn.org/stable/modules/preprocessing.html\n",
            "Please also refer to the documentation for alternative solver options:\n",
            "    https://scikit-learn.org/stable/modules/linear_model.html#logistic-regression\n",
            "  extra_warning_msg=_LOGISTIC_SOLVER_CONVERGENCE_MSG,\n",
            "/usr/local/lib/python3.7/dist-packages/sklearn/linear_model/_logistic.py:818: ConvergenceWarning: lbfgs failed to converge (status=1):\n",
            "STOP: TOTAL NO. of ITERATIONS REACHED LIMIT.\n",
            "\n",
            "Increase the number of iterations (max_iter) or scale the data as shown in:\n",
            "    https://scikit-learn.org/stable/modules/preprocessing.html\n",
            "Please also refer to the documentation for alternative solver options:\n",
            "    https://scikit-learn.org/stable/modules/linear_model.html#logistic-regression\n",
            "  extra_warning_msg=_LOGISTIC_SOLVER_CONVERGENCE_MSG,\n",
            "/usr/local/lib/python3.7/dist-packages/sklearn/linear_model/_logistic.py:818: ConvergenceWarning: lbfgs failed to converge (status=1):\n",
            "STOP: TOTAL NO. of ITERATIONS REACHED LIMIT.\n",
            "\n",
            "Increase the number of iterations (max_iter) or scale the data as shown in:\n",
            "    https://scikit-learn.org/stable/modules/preprocessing.html\n",
            "Please also refer to the documentation for alternative solver options:\n",
            "    https://scikit-learn.org/stable/modules/linear_model.html#logistic-regression\n",
            "  extra_warning_msg=_LOGISTIC_SOLVER_CONVERGENCE_MSG,\n",
            "/usr/local/lib/python3.7/dist-packages/sklearn/linear_model/_logistic.py:818: ConvergenceWarning: lbfgs failed to converge (status=1):\n",
            "STOP: TOTAL NO. of ITERATIONS REACHED LIMIT.\n",
            "\n",
            "Increase the number of iterations (max_iter) or scale the data as shown in:\n",
            "    https://scikit-learn.org/stable/modules/preprocessing.html\n",
            "Please also refer to the documentation for alternative solver options:\n",
            "    https://scikit-learn.org/stable/modules/linear_model.html#logistic-regression\n",
            "  extra_warning_msg=_LOGISTIC_SOLVER_CONVERGENCE_MSG,\n",
            "/usr/local/lib/python3.7/dist-packages/sklearn/linear_model/_logistic.py:818: ConvergenceWarning: lbfgs failed to converge (status=1):\n",
            "STOP: TOTAL NO. of ITERATIONS REACHED LIMIT.\n",
            "\n",
            "Increase the number of iterations (max_iter) or scale the data as shown in:\n",
            "    https://scikit-learn.org/stable/modules/preprocessing.html\n",
            "Please also refer to the documentation for alternative solver options:\n",
            "    https://scikit-learn.org/stable/modules/linear_model.html#logistic-regression\n",
            "  extra_warning_msg=_LOGISTIC_SOLVER_CONVERGENCE_MSG,\n",
            "/usr/local/lib/python3.7/dist-packages/sklearn/linear_model/_logistic.py:818: ConvergenceWarning: lbfgs failed to converge (status=1):\n",
            "STOP: TOTAL NO. of ITERATIONS REACHED LIMIT.\n",
            "\n",
            "Increase the number of iterations (max_iter) or scale the data as shown in:\n",
            "    https://scikit-learn.org/stable/modules/preprocessing.html\n",
            "Please also refer to the documentation for alternative solver options:\n",
            "    https://scikit-learn.org/stable/modules/linear_model.html#logistic-regression\n",
            "  extra_warning_msg=_LOGISTIC_SOLVER_CONVERGENCE_MSG,\n",
            "/usr/local/lib/python3.7/dist-packages/sklearn/linear_model/_logistic.py:818: ConvergenceWarning: lbfgs failed to converge (status=1):\n",
            "STOP: TOTAL NO. of ITERATIONS REACHED LIMIT.\n",
            "\n",
            "Increase the number of iterations (max_iter) or scale the data as shown in:\n",
            "    https://scikit-learn.org/stable/modules/preprocessing.html\n",
            "Please also refer to the documentation for alternative solver options:\n",
            "    https://scikit-learn.org/stable/modules/linear_model.html#logistic-regression\n",
            "  extra_warning_msg=_LOGISTIC_SOLVER_CONVERGENCE_MSG,\n"
          ]
        }
      ]
    },
    {
      "cell_type": "code",
      "metadata": {
        "id": "lUSmdk57nFSd",
        "colab": {
          "base_uri": "https://localhost:8080/"
        },
        "outputId": "9a28bf44-5878-4b7a-8790-5f9bcc5b7eb5"
      },
      "source": [
        "print(\"Num features: %s\" % (fit.n_features_))\n",
        "print(\"Features selecionadas : %s\" % (fit.support_))\n",
        "print(\"Feature Ranking: %s\" % (fit.ranking_))"
      ],
      "execution_count": null,
      "outputs": [
        {
          "output_type": "stream",
          "name": "stdout",
          "text": [
            "Num features: 16\n",
            "Features selecionadas : [ True  True False  True  True False  True False False  True False  True\n",
            " False False False False  True False  True False  True False  True  True\n",
            "  True False  True False  True False False  True]\n",
            "Feature Ranking: [ 1  1  6  1  1 15  1 14 10  1  9  1  7  4  3  8  1  2  1 13  1 17  1  1\n",
            "  1 12  1  5  1 16 11  1]\n"
          ]
        }
      ]
    },
    {
      "cell_type": "markdown",
      "metadata": {
        "id": "vm4ZVg3eWvnt"
      },
      "source": [
        "Aqui temos nosso novo dataset sem as colunas descartadas pelo RFE. Podemos perceber que tivemos uma redução pela metade no número de colunas."
      ]
    },
    {
      "cell_type": "code",
      "metadata": {
        "id": "52f40YRWC5wJ",
        "colab": {
          "base_uri": "https://localhost:8080/"
        },
        "outputId": "8f82b647-afff-41a9-c8d3-d6fb46035e1b"
      },
      "source": [
        "filtro = np.where(fit.support_)[0]\n",
        "nds = pd.read_csv('sample_data/UFFdatasetLab1.csv',usecols=filtro)\n",
        "nds.head()\n",
        "nds.info()"
      ],
      "execution_count": null,
      "outputs": [
        {
          "output_type": "stream",
          "name": "stdout",
          "text": [
            "<class 'pandas.core.frame.DataFrame'>\n",
            "RangeIndex: 856 entries, 0 to 855\n",
            "Data columns (total 16 columns):\n",
            " #   Column         Non-Null Count  Dtype  \n",
            "---  ------         --------------  -----  \n",
            " 0   WBN_GC_L_0.25  856 non-null    float64\n",
            " 1   WBN_GC_H_0.25  856 non-null    float64\n",
            " 2   WBN_GC_H_0.50  856 non-null    float64\n",
            " 3   WBN_GC_L_0.75  856 non-null    float64\n",
            " 4   WBN_GC_L_1.00  856 non-null    float64\n",
            " 5   WBN_EN_H_0.25  856 non-null    float64\n",
            " 6   WBN_EN_H_0.50  856 non-null    float64\n",
            " 7   WBN_LP_L_0.25  856 non-null    float64\n",
            " 8   WBN_LP_L_0.50  856 non-null    float64\n",
            " 9   WBN_LP_L_0.75  856 non-null    float64\n",
            " 10  WBN_LP_L_1.00  856 non-null    float64\n",
            " 11  WBN_LP_H_1.00  856 non-null    float64\n",
            " 12  XLogP          856 non-null    float64\n",
            " 13  NumRot         856 non-null    int64  \n",
            " 14  NumHBD         856 non-null    int64  \n",
            " 15  BadGroup       856 non-null    int64  \n",
            "dtypes: float64(13), int64(3)\n",
            "memory usage: 107.1 KB\n"
          ]
        }
      ]
    },
    {
      "cell_type": "markdown",
      "metadata": {
        "id": "eHpkrN9VHkJl"
      },
      "source": [
        "A partir de agora, vamos trabalhar com nosso novo data set *nds*, que é a versão reduzida do dataset original."
      ]
    },
    {
      "cell_type": "markdown",
      "metadata": {
        "id": "mYMvEoE2HpI9"
      },
      "source": [
        "### Outliers"
      ]
    },
    {
      "cell_type": "markdown",
      "metadata": {
        "id": "Koo-nhoaMVKh"
      },
      "source": [
        "Vamos analisar os outliers de cada coluna."
      ]
    },
    {
      "cell_type": "code",
      "metadata": {
        "id": "soJ0BEJ-HrIG"
      },
      "source": [
        "column0 = nds['WBN_GC_L_0.25']\n",
        "column1 = nds['WBN_GC_H_0.25']\n",
        "column2 = nds['WBN_GC_H_0.50']\n",
        "column3 = nds['WBN_GC_L_0.75']\n",
        "column4 = nds['WBN_GC_L_1.00']\n",
        "column5 = nds['WBN_EN_H_0.25']\n",
        "column6 = nds['WBN_EN_H_0.50']\n",
        "column7 = nds['WBN_LP_L_0.25']\n",
        "column8 = nds['WBN_LP_L_0.50']\n",
        "column9 = nds['WBN_LP_L_0.75']\n",
        "column10 = nds['WBN_LP_L_1.00']\n",
        "column11 = nds['WBN_LP_H_1.00']\n",
        "column12 = nds['XLogP']\n",
        "column13 = nds['NumRot']\n",
        "column14 = nds['NumHBD']\n",
        "column15 = nds['BadGroup']"
      ],
      "execution_count": null,
      "outputs": []
    },
    {
      "cell_type": "markdown",
      "metadata": {
        "id": "bqNbfjJaUyXf"
      },
      "source": [
        "#### Plotando gráficos"
      ]
    },
    {
      "cell_type": "code",
      "metadata": {
        "id": "vbOMDePDMXPz",
        "colab": {
          "base_uri": "https://localhost:8080/"
        },
        "outputId": "a523c99e-c7e9-4c48-c732-35ffbab759a2"
      },
      "source": [
        "sns.boxplot(x=nds['WBN_GC_L_0.25']) #coluna 0"
      ],
      "execution_count": null,
      "outputs": [
        {
          "output_type": "execute_result",
          "data": {
            "text/plain": [
              "<matplotlib.axes._subplots.AxesSubplot at 0x7f50862211d0>"
            ]
          },
          "metadata": {},
          "execution_count": 604
        },
        {
          "output_type": "display_data",
          "data": {
            "image/png": "[encoded data removed]",
            "text/plain": [
              "<Figure size 432x288 with 1 Axes>"
            ]
          },
          "metadata": {
            "needs_background": "light"
          }
        }
      ]
    },
    {
      "cell_type": "code",
      "metadata": {
        "id": "pNjUw2sWNwKS",
        "colab": {
          "base_uri": "https://localhost:8080/"
        },
        "outputId": "39a42ab7-ff24-4a24-cab2-193e17fcee31"
      },
      "source": [
        "sns.boxplot(x=nds['WBN_GC_H_0.25']) # coluna 1"
      ],
      "execution_count": null,
      "outputs": [
        {
          "output_type": "execute_result",
          "data": {
            "text/plain": [
              "<matplotlib.axes._subplots.AxesSubplot at 0x7f508340a9d0>"
            ]
          },
          "metadata": {},
          "execution_count": 605
        },
        {
          "output_type": "display_data",
          "data": {
            "image/png": "[encoded data removed]",
            "text/plain": [
              "<Figure size 432x288 with 1 Axes>"
            ]
          },
          "metadata": {
            "needs_background": "light"
          }
        }
      ]
    },
    {
      "cell_type": "code",
      "metadata": {
        "id": "-HzF-ViFNz6a",
        "colab": {
          "base_uri": "https://localhost:8080/"
        },
        "outputId": "350d3935-4e97-44c1-b34f-7f3d7199926a"
      },
      "source": [
        "sns.boxplot(x=nds['WBN_GC_H_0.50']) # coluna 2"
      ],
      "execution_count": null,
      "outputs": [
        {
          "output_type": "execute_result",
          "data": {
            "text/plain": [
              "<matplotlib.axes._subplots.AxesSubplot at 0x7f50833fa090>"
            ]
          },
          "metadata": {},
          "execution_count": 606
        },
        {
          "output_type": "display_data",
          "data": {
            "image/png": "[encoded data removed]",
            "text/plain": [
              "<Figure size 432x288 with 1 Axes>"
            ]
          },
          "metadata": {
            "needs_background": "light"
          }
        }
      ]
    },
    {
      "cell_type": "code",
      "metadata": {
        "id": "ap-nOTaRN_vB",
        "colab": {
          "base_uri": "https://localhost:8080/"
        },
        "outputId": "0425bd95-d2f4-4c13-fca2-a00cde68211d"
      },
      "source": [
        "sns.boxplot(x=nds['WBN_GC_L_0.75']) # coluna"
      ],
      "execution_count": null,
      "outputs": [
        {
          "output_type": "execute_result",
          "data": {
            "text/plain": [
              "<matplotlib.axes._subplots.AxesSubplot at 0x7f50833643d0>"
            ]
          },
          "metadata": {},
          "execution_count": 607
        },
        {
          "output_type": "display_data",
          "data": {
            "image/png": "[encoded data removed]",
            "text/plain": [
              "<Figure size 432x288 with 1 Axes>"
            ]
          },
          "metadata": {
            "needs_background": "light"
          }
        }
      ]
    },
    {
      "cell_type": "code",
      "metadata": {
        "id": "a3X3AjJeOG2U",
        "colab": {
          "base_uri": "https://localhost:8080/"
        },
        "outputId": "51efdb4f-527d-43c6-e63c-3f9cf94ba3f9"
      },
      "source": [
        "sns.boxplot(x=nds['WBN_GC_L_1.00']) # coluna 4"
      ],
      "execution_count": null,
      "outputs": [
        {
          "output_type": "execute_result",
          "data": {
            "text/plain": [
              "<matplotlib.axes._subplots.AxesSubplot at 0x7f50833428d0>"
            ]
          },
          "metadata": {},
          "execution_count": 608
        },
        {
          "output_type": "display_data",
          "data": {
            "image/png": "[encoded data removed]",
            "text/plain": [
              "<Figure size 432x288 with 1 Axes>"
            ]
          },
          "metadata": {
            "needs_background": "light"
          }
        }
      ]
    },
    {
      "cell_type": "code",
      "metadata": {
        "id": "2XIgOfmrOR9s",
        "colab": {
          "base_uri": "https://localhost:8080/"
        },
        "outputId": "52a4eb18-022f-48f4-cbc0-4d3071132869"
      },
      "source": [
        "sns.boxplot(x=nds['WBN_EN_H_0.25']) # coluna 5"
      ],
      "execution_count": null,
      "outputs": [
        {
          "output_type": "execute_result",
          "data": {
            "text/plain": [
              "<matplotlib.axes._subplots.AxesSubplot at 0x7f50832bc9d0>"
            ]
          },
          "metadata": {},
          "execution_count": 609
        },
        {
          "output_type": "display_data",
          "data": {
            "image/png": "[encoded data removed]",
            "text/plain": [
              "<Figure size 432x288 with 1 Axes>"
            ]
          },
          "metadata": {
            "needs_background": "light"
          }
        }
      ]
    },
    {
      "cell_type": "code",
      "metadata": {
        "id": "0E9gIuRHOWlS",
        "colab": {
          "base_uri": "https://localhost:8080/"
        },
        "outputId": "47fb2d7f-d5fe-4188-b56d-61c15813b98e"
      },
      "source": [
        "sns.boxplot(x=nds['WBN_EN_H_0.50']) # coluna 6"
      ],
      "execution_count": null,
      "outputs": [
        {
          "output_type": "execute_result",
          "data": {
            "text/plain": [
              "<matplotlib.axes._subplots.AxesSubplot at 0x7f508322e0d0>"
            ]
          },
          "metadata": {},
          "execution_count": 610
        },
        {
          "output_type": "display_data",
          "data": {
            "image/png": "[encoded data removed]",
            "text/plain": [
              "<Figure size 432x288 with 1 Axes>"
            ]
          },
          "metadata": {
            "needs_background": "light"
          }
        }
      ]
    },
    {
      "cell_type": "code",
      "metadata": {
        "id": "AKjAtsG8OeYK",
        "colab": {
          "base_uri": "https://localhost:8080/"
        },
        "outputId": "c4861a7d-956d-4ee9-e021-d1e3c747e871"
      },
      "source": [
        "sns.boxplot(x=nds['WBN_LP_L_0.25']) # coluna 7"
      ],
      "execution_count": null,
      "outputs": [
        {
          "output_type": "execute_result",
          "data": {
            "text/plain": [
              "<matplotlib.axes._subplots.AxesSubplot at 0x7f5083190810>"
            ]
          },
          "metadata": {},
          "execution_count": 611
        },
        {
          "output_type": "display_data",
          "data": {
            "image/png": "[encoded data removed]",
            "text/plain": [
              "<Figure size 432x288 with 1 Axes>"
            ]
          },
          "metadata": {
            "needs_background": "light"
          }
        }
      ]
    },
    {
      "cell_type": "code",
      "metadata": {
        "id": "rZDx8Sg5Oinz",
        "colab": {
          "base_uri": "https://localhost:8080/"
        },
        "outputId": "9d85e271-1faf-4afd-d4b6-310c6ce66417"
      },
      "source": [
        "sns.boxplot(x=nds['WBN_LP_L_0.50']) # coluna 8"
      ],
      "execution_count": null,
      "outputs": [
        {
          "output_type": "execute_result",
          "data": {
            "text/plain": [
              "<matplotlib.axes._subplots.AxesSubplot at 0x7f5083178710>"
            ]
          },
          "metadata": {},
          "execution_count": 612
        },
        {
          "output_type": "display_data",
          "data": {
            "image/png": "[encoded data removed]",
            "text/plain": [
              "<Figure size 432x288 with 1 Axes>"
            ]
          },
          "metadata": {
            "needs_background": "light"
          }
        }
      ]
    },
    {
      "cell_type": "code",
      "metadata": {
        "id": "_AfWa18eOoWb",
        "colab": {
          "base_uri": "https://localhost:8080/"
        },
        "outputId": "5990aa02-fcea-474e-8885-d1ebecf3faf3"
      },
      "source": [
        "sns.boxplot(x=nds['WBN_LP_L_0.75']) # coluna 9"
      ],
      "execution_count": null,
      "outputs": [
        {
          "output_type": "execute_result",
          "data": {
            "text/plain": [
              "<matplotlib.axes._subplots.AxesSubplot at 0x7f50830e22d0>"
            ]
          },
          "metadata": {},
          "execution_count": 613
        },
        {
          "output_type": "display_data",
          "data": {
            "image/png": "[encoded data removed]",
            "text/plain": [
              "<Figure size 432x288 with 1 Axes>"
            ]
          },
          "metadata": {
            "needs_background": "light"
          }
        }
      ]
    },
    {
      "cell_type": "code",
      "metadata": {
        "id": "6To1fuNdOrtp",
        "colab": {
          "base_uri": "https://localhost:8080/"
        },
        "outputId": "daecacc4-e4d1-44fd-f534-fdf379d9a7c7"
      },
      "source": [
        "sns.boxplot(x=nds['WBN_LP_L_1.00']) # coluna 10"
      ],
      "execution_count": null,
      "outputs": [
        {
          "output_type": "execute_result",
          "data": {
            "text/plain": [
              "<matplotlib.axes._subplots.AxesSubplot at 0x7f50830ae890>"
            ]
          },
          "metadata": {},
          "execution_count": 614
        },
        {
          "output_type": "display_data",
          "data": {
            "image/png": "[encoded data removed]",
            "text/plain": [
              "<Figure size 432x288 with 1 Axes>"
            ]
          },
          "metadata": {
            "needs_background": "light"
          }
        }
      ]
    },
    {
      "cell_type": "code",
      "metadata": {
        "id": "BWP2SPB_Ou1U",
        "colab": {
          "base_uri": "https://localhost:8080/"
        },
        "outputId": "b7ae8236-3194-45bc-aaaf-e81fa881823d"
      },
      "source": [
        "sns.boxplot(x=nds['WBN_LP_H_1.00']) # coluna 11"
      ],
      "execution_count": null,
      "outputs": [
        {
          "output_type": "execute_result",
          "data": {
            "text/plain": [
              "<matplotlib.axes._subplots.AxesSubplot at 0x7f5083031150>"
            ]
          },
          "metadata": {},
          "execution_count": 615
        },
        {
          "output_type": "display_data",
          "data": {
            "image/png": "[encoded data removed]",
            "text/plain": [
              "<Figure size 432x288 with 1 Axes>"
            ]
          },
          "metadata": {
            "needs_background": "light"
          }
        }
      ]
    },
    {
      "cell_type": "code",
      "metadata": {
        "id": "ADs4I2SXO0JH",
        "colab": {
          "base_uri": "https://localhost:8080/"
        },
        "outputId": "8da5e44e-ab9b-41c8-ff84-e9b91ca8fc7e"
      },
      "source": [
        "sns.boxplot(x=nds['XLogP']) # coluna 12"
      ],
      "execution_count": null,
      "outputs": [
        {
          "output_type": "execute_result",
          "data": {
            "text/plain": [
              "<matplotlib.axes._subplots.AxesSubplot at 0x7f5082fa7a50>"
            ]
          },
          "metadata": {},
          "execution_count": 616
        },
        {
          "output_type": "display_data",
          "data": {
            "image/png": "[encoded data removed]",
            "text/plain": [
              "<Figure size 432x288 with 1 Axes>"
            ]
          },
          "metadata": {
            "needs_background": "light"
          }
        }
      ]
    },
    {
      "cell_type": "code",
      "metadata": {
        "id": "gKgZfiOdO4N5",
        "colab": {
          "base_uri": "https://localhost:8080/"
        },
        "outputId": "fd6b571f-6b10-43f4-b7fc-b62d866d695e"
      },
      "source": [
        "sns.boxplot(x=nds['NumRot']) # coluna 13"
      ],
      "execution_count": null,
      "outputs": [
        {
          "output_type": "execute_result",
          "data": {
            "text/plain": [
              "<matplotlib.axes._subplots.AxesSubplot at 0x7f5082f08f10>"
            ]
          },
          "metadata": {},
          "execution_count": 617
        },
        {
          "output_type": "display_data",
          "data": {
            "image/png": "[encoded data removed]",
            "text/plain": [
              "<Figure size 432x288 with 1 Axes>"
            ]
          },
          "metadata": {
            "needs_background": "light"
          }
        }
      ]
    },
    {
      "cell_type": "code",
      "metadata": {
        "id": "YYNRJD0FO9Rn",
        "colab": {
          "base_uri": "https://localhost:8080/"
        },
        "outputId": "0f97f72a-4156-48f8-fc1f-61779ce65f2d"
      },
      "source": [
        "sns.boxplot(x=nds['NumHBD']) # coluna 14"
      ],
      "execution_count": null,
      "outputs": [
        {
          "output_type": "execute_result",
          "data": {
            "text/plain": [
              "<matplotlib.axes._subplots.AxesSubplot at 0x7f5082ee8210>"
            ]
          },
          "metadata": {},
          "execution_count": 618
        },
        {
          "output_type": "display_data",
          "data": {
            "image/png": "[encoded data removed]",
            "text/plain": [
              "<Figure size 432x288 with 1 Axes>"
            ]
          },
          "metadata": {
            "needs_background": "light"
          }
        }
      ]
    },
    {
      "cell_type": "code",
      "metadata": {
        "id": "U4LQzeRmPB1x",
        "colab": {
          "base_uri": "https://localhost:8080/"
        },
        "outputId": "0d510756-09e2-45d1-b4c5-0a0aa904bb72"
      },
      "source": [
        "sns.boxplot(x=nds['BadGroup']) # coluna 15"
      ],
      "execution_count": null,
      "outputs": [
        {
          "output_type": "execute_result",
          "data": {
            "text/plain": [
              "<matplotlib.axes._subplots.AxesSubplot at 0x7f5082ecedd0>"
            ]
          },
          "metadata": {},
          "execution_count": 619
        },
        {
          "output_type": "display_data",
          "data": {
            "image/png": "[encoded data removed]",
            "text/plain": [
              "<Figure size 432x288 with 1 Axes>"
            ]
          },
          "metadata": {
            "needs_background": "light"
          }
        }
      ]
    },
    {
      "cell_type": "markdown",
      "metadata": {
        "id": "AVyBjUTzRDyh"
      },
      "source": [
        "Observando os gráficos, pudemos perceber que somente as colunas 1, 2, 3, 5, 11, 12, 13, 14 e 15 apresentam *outliers*. Vamos removê-los usando o método IQR."
      ]
    },
    {
      "cell_type": "markdown",
      "metadata": {
        "id": "8Qty-gwsU4nd"
      },
      "source": [
        "#### Removendo outliers"
      ]
    },
    {
      "cell_type": "code",
      "metadata": {
        "id": "wOTn5y96WekX",
        "colab": {
          "base_uri": "https://localhost:8080/"
        },
        "outputId": "7f1e96fd-a947-4c48-b681-c9f041f12ebc"
      },
      "source": [
        "# coluna 1\n",
        "Q1=column1.quantile(0.25)\n",
        "Q3=column1.quantile(0.75)\n",
        "IQR=Q3-Q1\n",
        "lowqe_bound=Q1 - 1.5 * IQR\n",
        "upper_bound=Q3 + 1.5 * IQR\n",
        "IQR_column1 = column1[~((column1 < lowqe_bound) |(column1 > upper_bound))]\n",
        "sns.boxplot(x=IQR_column1)"
      ],
      "execution_count": null,
      "outputs": [
        {
          "output_type": "execute_result",
          "data": {
            "text/plain": [
              "<matplotlib.axes._subplots.AxesSubplot at 0x7f5082e0c350>"
            ]
          },
          "metadata": {},
          "execution_count": 620
        },
        {
          "output_type": "display_data",
          "data": {
            "image/png": "[encoded data removed]",
            "text/plain": [
              "<Figure size 432x288 with 1 Axes>"
            ]
          },
          "metadata": {
            "needs_background": "light"
          }
        }
      ]
    },
    {
      "cell_type": "code",
      "metadata": {
        "id": "6yD4l1y5Xv8r",
        "colab": {
          "base_uri": "https://localhost:8080/"
        },
        "outputId": "b42dbd13-6ec6-4d44-b1e6-bb39db5f464c"
      },
      "source": [
        "# coluna 2\n",
        "Q1=column2.quantile(0.25)\n",
        "Q3=column2.quantile(0.75)\n",
        "IQR=Q3-Q1\n",
        "lowqe_bound=Q1 - 1.5 * IQR\n",
        "upper_bound=Q3 + 1.5 * IQR\n",
        "IQR_column2 = column2[~((column2 < lowqe_bound) |(column2 > upper_bound))]\n",
        "sns.boxplot(x=IQR_column2)"
      ],
      "execution_count": null,
      "outputs": [
        {
          "output_type": "execute_result",
          "data": {
            "text/plain": [
              "<matplotlib.axes._subplots.AxesSubplot at 0x7f5084ce5510>"
            ]
          },
          "metadata": {},
          "execution_count": 621
        },
        {
          "output_type": "display_data",
          "data": {
            "image/png": "[encoded data removed]",
            "text/plain": [
              "<Figure size 432x288 with 1 Axes>"
            ]
          },
          "metadata": {
            "needs_background": "light"
          }
        }
      ]
    },
    {
      "cell_type": "code",
      "metadata": {
        "id": "g0qaRmPCX_7-",
        "colab": {
          "base_uri": "https://localhost:8080/"
        },
        "outputId": "8d2d1d5a-605b-4594-8692-55030c69e762"
      },
      "source": [
        "# coluna 3\n",
        "Q1=column3.quantile(0.25)\n",
        "Q3=column3.quantile(0.75)\n",
        "IQR=Q3-Q1\n",
        "lowqe_bound=Q1 - 1.5 * IQR\n",
        "upper_bound=Q3 + 1.5 * IQR\n",
        "IQR_column3 = column3[~((column3 < lowqe_bound) |(column3 > upper_bound))]\n",
        "sns.boxplot(x=IQR_column3)"
      ],
      "execution_count": null,
      "outputs": [
        {
          "output_type": "execute_result",
          "data": {
            "text/plain": [
              "<matplotlib.axes._subplots.AxesSubplot at 0x7f50836ab950>"
            ]
          },
          "metadata": {},
          "execution_count": 622
        },
        {
          "output_type": "display_data",
          "data": {
            "image/png": "[encoded data removed]",
            "text/plain": [
              "<Figure size 432x288 with 1 Axes>"
            ]
          },
          "metadata": {
            "needs_background": "light"
          }
        }
      ]
    },
    {
      "cell_type": "code",
      "metadata": {
        "id": "Knb8s9y-bUkr",
        "colab": {
          "base_uri": "https://localhost:8080/"
        },
        "outputId": "cf632731-f12c-4388-9dcf-3d30b0985a0f"
      },
      "source": [
        "# coluna 5\n",
        "Q1=column5.quantile(0.25)\n",
        "Q3=column5.quantile(0.75)\n",
        "IQR=Q3-Q1\n",
        "lowqe_bound=Q1 - 1.5 * IQR\n",
        "upper_bound=Q3 + 1.5 * IQR\n",
        "IQR_column5 = column5[~((column5 < lowqe_bound) |(column5 > upper_bound))]\n",
        "sns.boxplot(x=IQR_column5)"
      ],
      "execution_count": null,
      "outputs": [
        {
          "output_type": "execute_result",
          "data": {
            "text/plain": [
              "<matplotlib.axes._subplots.AxesSubplot at 0x7f508370fa90>"
            ]
          },
          "metadata": {},
          "execution_count": 623
        },
        {
          "output_type": "display_data",
          "data": {
            "image/png": "[encoded data removed]",
            "text/plain": [
              "<Figure size 432x288 with 1 Axes>"
            ]
          },
          "metadata": {
            "needs_background": "light"
          }
        }
      ]
    },
    {
      "cell_type": "code",
      "metadata": {
        "id": "Z30PkqvLbdJv",
        "colab": {
          "base_uri": "https://localhost:8080/"
        },
        "outputId": "831dd67b-f4f8-4a74-e0cb-9fbf9f7d6a8a"
      },
      "source": [
        "# coluna 11\n",
        "Q1=column11.quantile(0.25)\n",
        "Q3=column11.quantile(0.75)\n",
        "IQR=Q3-Q1\n",
        "lowqe_bound=Q1 - 1.5 * IQR\n",
        "upper_bound=Q3 + 1.5 * IQR\n",
        "IQR_column11 = column11[~((column11 < lowqe_bound) |(column11 > upper_bound))]\n",
        "sns.boxplot(x=IQR_column11)"
      ],
      "execution_count": null,
      "outputs": [
        {
          "output_type": "execute_result",
          "data": {
            "text/plain": [
              "<matplotlib.axes._subplots.AxesSubplot at 0x7f5082e3a450>"
            ]
          },
          "metadata": {},
          "execution_count": 624
        },
        {
          "output_type": "display_data",
          "data": {
            "image/png": "[encoded data removed]",
            "text/plain": [
              "<Figure size 432x288 with 1 Axes>"
            ]
          },
          "metadata": {
            "needs_background": "light"
          }
        }
      ]
    },
    {
      "cell_type": "code",
      "metadata": {
        "id": "Ys2wh_GQb7cc",
        "colab": {
          "base_uri": "https://localhost:8080/"
        },
        "outputId": "6756838d-988d-4c0c-89c3-0098935ea9fe"
      },
      "source": [
        "# coluna 12\n",
        "Q1=column12.quantile(0.25)\n",
        "Q3=column12.quantile(0.75)\n",
        "IQR=Q3-Q1\n",
        "lowqe_bound=Q1 - 1.5 * IQR\n",
        "upper_bound=Q3 + 1.5 * IQR\n",
        "IQR_column12 = column12[~((column12 < lowqe_bound) |(column12 > upper_bound))]\n",
        "sns.boxplot(x=IQR_column12)"
      ],
      "execution_count": null,
      "outputs": [
        {
          "output_type": "execute_result",
          "data": {
            "text/plain": [
              "<matplotlib.axes._subplots.AxesSubplot at 0x7f5083bb2990>"
            ]
          },
          "metadata": {},
          "execution_count": 625
        },
        {
          "output_type": "display_data",
          "data": {
            "image/png": "[encoded data removed]",
            "text/plain": [
              "<Figure size 432x288 with 1 Axes>"
            ]
          },
          "metadata": {
            "needs_background": "light"
          }
        }
      ]
    },
    {
      "cell_type": "code",
      "metadata": {
        "id": "j4SRw3GgcBqP",
        "colab": {
          "base_uri": "https://localhost:8080/"
        },
        "outputId": "193e5249-8e75-439b-86d3-b5479498d79e"
      },
      "source": [
        "# coluna 13\n",
        "Q1=column13.quantile(0.25)\n",
        "Q3=column13.quantile(0.75)\n",
        "IQR=Q3-Q1\n",
        "lowqe_bound=Q1 - 1.5 * IQR\n",
        "upper_bound=Q3 + 1.5 * IQR\n",
        "IQR_column13 = column13[~((column13 < lowqe_bound) |(column13 > upper_bound))]\n",
        "sns.boxplot(x=IQR_column13)"
      ],
      "execution_count": null,
      "outputs": [
        {
          "output_type": "execute_result",
          "data": {
            "text/plain": [
              "<matplotlib.axes._subplots.AxesSubplot at 0x7f5083c58350>"
            ]
          },
          "metadata": {},
          "execution_count": 626
        },
        {
          "output_type": "display_data",
          "data": {
            "image/png": "[encoded data removed]",
            "text/plain": [
              "<Figure size 432x288 with 1 Axes>"
            ]
          },
          "metadata": {
            "needs_background": "light"
          }
        }
      ]
    },
    {
      "cell_type": "code",
      "metadata": {
        "id": "urhcDjHwcGmV",
        "colab": {
          "base_uri": "https://localhost:8080/"
        },
        "outputId": "bf7f4f5f-4ecc-4dc7-f931-f99ff268233c"
      },
      "source": [
        "# coluna 14\n",
        "Q1=column14.quantile(0.25)\n",
        "Q3=column14.quantile(0.75)\n",
        "IQR=Q3-Q1\n",
        "lowqe_bound=Q1 - 1.5 * IQR\n",
        "upper_bound=Q3 + 1.5 * IQR\n",
        "IQR_column14 = column14[~((column14 < lowqe_bound) |(column14 > upper_bound))]\n",
        "sns.boxplot(x=IQR_column14)"
      ],
      "execution_count": null,
      "outputs": [
        {
          "output_type": "execute_result",
          "data": {
            "text/plain": [
              "<matplotlib.axes._subplots.AxesSubplot at 0x7f508423e2d0>"
            ]
          },
          "metadata": {},
          "execution_count": 627
        },
        {
          "output_type": "display_data",
          "data": {
            "image/png": "[encoded data removed]",
            "text/plain": [
              "<Figure size 432x288 with 1 Axes>"
            ]
          },
          "metadata": {
            "needs_background": "light"
          }
        }
      ]
    },
    {
      "cell_type": "code",
      "metadata": {
        "id": "kE8oH218cY_t",
        "colab": {
          "base_uri": "https://localhost:8080/"
        },
        "outputId": "3b28b3e4-876f-49d0-e285-1b4118975ed5"
      },
      "source": [
        "# coluna 15\n",
        "Q1=column15.quantile(0.25)\n",
        "Q3=column15.quantile(0.75)\n",
        "IQR=Q3-Q1\n",
        "lowqe_bound=Q1 - 1.5 * IQR\n",
        "upper_bound=Q3 + 1.5 * IQR\n",
        "IQR_column15 = column15[~((column15 < lowqe_bound) |(column15> upper_bound))]\n",
        "sns.boxplot(x=IQR_column15)"
      ],
      "execution_count": null,
      "outputs": [
        {
          "output_type": "execute_result",
          "data": {
            "text/plain": [
              "<matplotlib.axes._subplots.AxesSubplot at 0x7f5084329910>"
            ]
          },
          "metadata": {},
          "execution_count": 628
        },
        {
          "output_type": "display_data",
          "data": {
            "image/png": "[encoded data removed]",
            "text/plain": [
              "<Figure size 432x288 with 1 Axes>"
            ]
          },
          "metadata": {
            "needs_background": "light"
          }
        }
      ]
    },
    {
      "cell_type": "markdown",
      "metadata": {
        "id": "itPR7_51cuSr"
      },
      "source": [
        "Podemos observar que alguns outliers (colunas 2, 3 e 12) não foram removidos usando a técnica IQR, então tentaremos usar a Z-Score"
      ]
    },
    {
      "cell_type": "code",
      "metadata": {
        "id": "3uh5IWTZc59j",
        "colab": {
          "base_uri": "https://localhost:8080/"
        },
        "outputId": "42769dea-e81e-41df-ee0d-6875ee58675c"
      },
      "source": [
        "# coluna 2\n",
        "z=np.abs(stats.zscore(column2))\n",
        "threshold = 2.2\n",
        "z_column2=column2[(z < threshold)]\n",
        "sns.boxplot(z_column2)"
      ],
      "execution_count": null,
      "outputs": [
        {
          "output_type": "stream",
          "name": "stderr",
          "text": [
            "/usr/local/lib/python3.7/dist-packages/seaborn/_decorators.py:43: FutureWarning: Pass the following variable as a keyword arg: x. From version 0.12, the only valid positional argument will be `data`, and passing other arguments without an explicit keyword will result in an error or misinterpretation.\n",
            "  FutureWarning\n"
          ]
        },
        {
          "output_type": "execute_result",
          "data": {
            "text/plain": [
              "<matplotlib.axes._subplots.AxesSubplot at 0x7f5084377090>"
            ]
          },
          "metadata": {},
          "execution_count": 629
        },
        {
          "output_type": "display_data",
          "data": {
            "image/png": "[encoded data removed]",
            "text/plain": [
              "<Figure size 432x288 with 1 Axes>"
            ]
          },
          "metadata": {
            "needs_background": "light"
          }
        }
      ]
    },
    {
      "cell_type": "code",
      "metadata": {
        "id": "_XDkoyiEeR-h",
        "colab": {
          "base_uri": "https://localhost:8080/"
        },
        "outputId": "a6053c8b-5739-469c-ee9a-9ed413fa5f7b"
      },
      "source": [
        "# coluna 3\n",
        "z=np.abs(stats.zscore(column3))\n",
        "threshold = 1.3\n",
        "z_column3=column3[(z < threshold)]\n",
        "sns.boxplot(z_column3)"
      ],
      "execution_count": null,
      "outputs": [
        {
          "output_type": "stream",
          "name": "stderr",
          "text": [
            "/usr/local/lib/python3.7/dist-packages/seaborn/_decorators.py:43: FutureWarning: Pass the following variable as a keyword arg: x. From version 0.12, the only valid positional argument will be `data`, and passing other arguments without an explicit keyword will result in an error or misinterpretation.\n",
            "  FutureWarning\n"
          ]
        },
        {
          "output_type": "execute_result",
          "data": {
            "text/plain": [
              "<matplotlib.axes._subplots.AxesSubplot at 0x7f5088aa32d0>"
            ]
          },
          "metadata": {},
          "execution_count": 630
        },
        {
          "output_type": "display_data",
          "data": {
            "image/png": "[encoded data removed]",
            "text/plain": [
              "<Figure size 432x288 with 1 Axes>"
            ]
          },
          "metadata": {
            "needs_background": "light"
          }
        }
      ]
    },
    {
      "cell_type": "code",
      "metadata": {
        "id": "2XjVH3s0edt1",
        "colab": {
          "base_uri": "https://localhost:8080/"
        },
        "outputId": "46712175-7523-4091-a9bf-c3b07500ae16"
      },
      "source": [
        "# coluna 12\n",
        "z=np.abs(stats.zscore(column12))\n",
        "threshold = 2.7\n",
        "z_column12=column12[(z < threshold)]\n",
        "sns.boxplot(z_column12)"
      ],
      "execution_count": null,
      "outputs": [
        {
          "output_type": "stream",
          "name": "stderr",
          "text": [
            "/usr/local/lib/python3.7/dist-packages/seaborn/_decorators.py:43: FutureWarning: Pass the following variable as a keyword arg: x. From version 0.12, the only valid positional argument will be `data`, and passing other arguments without an explicit keyword will result in an error or misinterpretation.\n",
            "  FutureWarning\n"
          ]
        },
        {
          "output_type": "execute_result",
          "data": {
            "text/plain": [
              "<matplotlib.axes._subplots.AxesSubplot at 0x7f508389ca90>"
            ]
          },
          "metadata": {},
          "execution_count": 631
        },
        {
          "output_type": "display_data",
          "data": {
            "image/png": "[encoded data removed]",
            "text/plain": [
              "<Figure size 432x288 with 1 Axes>"
            ]
          },
          "metadata": {
            "needs_background": "light"
          }
        }
      ]
    },
    {
      "cell_type": "markdown",
      "metadata": {
        "id": "TnMefkMxf7-6"
      },
      "source": [
        "### Outras considerações"
      ]
    },
    {
      "cell_type": "markdown",
      "metadata": {
        "id": "n2mZzsgsjD0b"
      },
      "source": [
        "Apesar de não conhecermos bem o conjunto de dados oferecido pelo professor, é possível perceber algumas características específicas de algumas colunas, como a *BBB*, *BadGroup* e *Outcome*"
      ]
    },
    {
      "cell_type": "markdown",
      "metadata": {
        "id": "hjrzBPUjn3gf"
      },
      "source": [
        "##### BBB"
      ]
    },
    {
      "cell_type": "markdown",
      "metadata": {
        "id": "D157RmOgn5Sh"
      },
      "source": [
        "A coluna *BBB* parece tratar de algo em binário."
      ]
    },
    {
      "cell_type": "code",
      "metadata": {
        "id": "6Mhi5rDnnxeX",
        "colab": {
          "base_uri": "https://localhost:8080/"
        },
        "outputId": "1d400fbe-3793-4666-c99d-b9edca4fb124"
      },
      "source": [
        "BBB = dataset['BBB']\n",
        "BBB.groupby(BBB).count()"
      ],
      "execution_count": null,
      "outputs": [
        {
          "output_type": "execute_result",
          "data": {
            "text/plain": [
              "BBB\n",
              "0    617\n",
              "1    239\n",
              "Name: BBB, dtype: int64"
            ]
          },
          "metadata": {},
          "execution_count": 632
        }
      ]
    },
    {
      "cell_type": "code",
      "metadata": {
        "id": "fMTi5o6soePL",
        "colab": {
          "base_uri": "https://localhost:8080/"
        },
        "outputId": "318389a8-fa60-4cf0-f4b1-f52ea493ca76"
      },
      "source": [
        "BBB_sum = BBB.value_counts()\n",
        "BBB_sum = BBB_sum.sort_index()\n",
        "plt.bar(BBB_sum.index, BBB_sum)\n",
        "plt.xticks(BBB_sum.index)\n",
        "plt.title('BBB')"
      ],
      "execution_count": null,
      "outputs": [
        {
          "output_type": "execute_result",
          "data": {
            "text/plain": [
              "Text(0.5, 1.0, 'BBB')"
            ]
          },
          "metadata": {},
          "execution_count": 633
        },
        {
          "output_type": "display_data",
          "data": {
            "image/png": "[encoded data removed]",
            "text/plain": [
              "<Figure size 432x288 with 1 Axes>"
            ]
          },
          "metadata": {
            "needs_background": "light"
          }
        }
      ]
    },
    {
      "cell_type": "markdown",
      "metadata": {
        "id": "0lOaTLB4o7FJ"
      },
      "source": [
        "Há uma presença consideravelmente maior de estados 0 do que de estados 1 na nossa base de dados. Mesmo sem conhecer bem a base de dados, podemos relacionar colunas do nosso dataset com a *BBB*, como, por exemplo, a coluna *PSA*"
      ]
    },
    {
      "cell_type": "code",
      "metadata": {
        "id": "Q25yk_48MhKl"
      },
      "source": [
        "estados = dataset['BBB']\n",
        "estado0 = dataset[dataset['BBB'] == 0]\n",
        "estado1 = dataset[dataset['BBB'] == 1]"
      ],
      "execution_count": null,
      "outputs": []
    },
    {
      "cell_type": "code",
      "metadata": {
        "colab": {
          "base_uri": "https://localhost:8080/"
        },
        "id": "FXoscqfJMp4w",
        "outputId": "bdbfe4c3-0eee-4b55-cac1-25902c999e98"
      },
      "source": [
        "print(estado0.mean())"
      ],
      "execution_count": null,
      "outputs": [
        {
          "output_type": "stream",
          "name": "stdout",
          "text": [
            "WBN_GC_L_0.25     -2.088617\n",
            "WBN_GC_H_0.25      1.814625\n",
            "WBN_GC_L_0.50     -2.315379\n",
            "WBN_GC_H_0.50      2.336412\n",
            "WBN_GC_L_0.75     -2.748706\n",
            "WBN_GC_H_0.75      3.082793\n",
            "WBN_GC_L_1.00     -3.414406\n",
            "WBN_GC_H_1.00      3.914493\n",
            "WBN_EN_L_0.25     -0.781116\n",
            "WBN_EN_H_0.25      1.520022\n",
            "WBN_EN_L_0.50     -1.589852\n",
            "WBN_EN_H_0.50      2.209343\n",
            "WBN_EN_L_0.75     -2.414584\n",
            "WBN_EN_H_0.75      3.006854\n",
            "WBN_EN_L_1.00     -3.247492\n",
            "WBN_EN_H_1.00      3.868071\n",
            "WBN_LP_L_0.25     -0.986126\n",
            "WBN_LP_H_0.25      1.117589\n",
            "WBN_LP_L_0.50     -1.758860\n",
            "WBN_LP_H_0.50      1.943934\n",
            "WBN_LP_L_0.75     -2.574949\n",
            "WBN_LP_H_0.75      2.810868\n",
            "WBN_LP_L_1.00     -3.405159\n",
            "WBN_LP_H_1.00      3.691407\n",
            "XLogP              3.243817\n",
            "PSA              100.188201\n",
            "NumRot             7.299838\n",
            "NumHBA             6.215559\n",
            "NumHBD             1.272285\n",
            "MW               435.246838\n",
            "BBB                0.000000\n",
            "BadGroup           0.583468\n",
            "dtype: float64\n"
          ]
        }
      ]
    },
    {
      "cell_type": "code",
      "metadata": {
        "colab": {
          "base_uri": "https://localhost:8080/"
        },
        "id": "DMDW9vOGNEcW",
        "outputId": "edebf8c0-70a6-4f5b-813a-fbb10162c916"
      },
      "source": [
        "print(estado1.mean())"
      ],
      "execution_count": null,
      "outputs": [
        {
          "output_type": "stream",
          "name": "stdout",
          "text": [
            "WBN_GC_L_0.25     -2.068696\n",
            "WBN_GC_H_0.25      1.743419\n",
            "WBN_GC_L_0.50     -2.322960\n",
            "WBN_GC_H_0.50      2.316884\n",
            "WBN_GC_L_0.75     -2.787956\n",
            "WBN_GC_H_0.75      3.085203\n",
            "WBN_GC_L_1.00     -3.454173\n",
            "WBN_GC_H_1.00      3.931510\n",
            "WBN_EN_L_0.25     -0.809579\n",
            "WBN_EN_H_0.25      1.551144\n",
            "WBN_EN_L_0.50     -1.642200\n",
            "WBN_EN_H_0.50      2.187302\n",
            "WBN_EN_L_0.75     -2.485153\n",
            "WBN_EN_H_0.75      2.953795\n",
            "WBN_EN_L_1.00     -3.332807\n",
            "WBN_EN_H_1.00      3.813720\n",
            "WBN_LP_L_0.25     -0.925617\n",
            "WBN_LP_H_0.25      1.185280\n",
            "WBN_LP_L_0.50     -1.678015\n",
            "WBN_LP_H_0.50      2.017377\n",
            "WBN_LP_L_0.75     -2.498949\n",
            "WBN_LP_H_0.75      2.895115\n",
            "WBN_LP_L_1.00     -3.338436\n",
            "WBN_LP_H_1.00      3.786116\n",
            "XLogP              4.344510\n",
            "PSA               57.249749\n",
            "NumRot             4.953975\n",
            "NumHBA             4.163180\n",
            "NumHBD             0.635983\n",
            "MW               371.331941\n",
            "BBB                1.000000\n",
            "BadGroup           0.343096\n",
            "dtype: float64\n"
          ]
        }
      ]
    },
    {
      "cell_type": "code",
      "metadata": {
        "colab": {
          "base_uri": "https://localhost:8080/"
        },
        "id": "uDZNKp6QNuB_",
        "outputId": "5269a27b-8d2e-453f-e58a-d4bd5c02a682"
      },
      "source": [
        "comparacao = sns.boxplot(x=dataset['BBB'], y=dataset['PSA'])\n",
        "comparacao.set_title('Comparação entre os valores de PSA para cada estado 0 ou 1 de BBB')"
      ],
      "execution_count": null,
      "outputs": [
        {
          "output_type": "execute_result",
          "data": {
            "text/plain": [
              "Text(0.5, 1.0, 'Comparação entre os valores de PSA para cada estado 0 ou 1 de BBB')"
            ]
          },
          "metadata": {},
          "execution_count": 637
        },
        {
          "output_type": "display_data",
          "data": {
            "image/png": "[encoded data removed]",
            "text/plain": [
              "<Figure size 432x288 with 1 Axes>"
            ]
          },
          "metadata": {
            "needs_background": "light"
          }
        }
      ]
    },
    {
      "cell_type": "markdown",
      "metadata": {
        "id": "IaBHY61iOc4y"
      },
      "source": [
        "É possível perceber que os valores para o estado 0 são drásticamente maiores que os valores para o estado 1 de BBB em PSA."
      ]
    },
    {
      "cell_type": "markdown",
      "metadata": {
        "id": "ZjKwmGP7pM8-"
      },
      "source": [
        "##### BadGroup"
      ]
    },
    {
      "cell_type": "code",
      "metadata": {
        "id": "34xJPtuFpnoh",
        "colab": {
          "base_uri": "https://localhost:8080/"
        },
        "outputId": "fd1024b1-f099-4723-c5d6-785695e075a5"
      },
      "source": [
        "badgroup = dataset['BadGroup']\n",
        "badgroup.groupby(badgroup).count()"
      ],
      "execution_count": null,
      "outputs": [
        {
          "output_type": "execute_result",
          "data": {
            "text/plain": [
              "BadGroup\n",
              "0    501\n",
              "1    274\n",
              "2     75\n",
              "3      6\n",
              "Name: BadGroup, dtype: int64"
            ]
          },
          "metadata": {},
          "execution_count": 638
        }
      ]
    },
    {
      "cell_type": "markdown",
      "metadata": {
        "id": "H7H-TnPipTYW"
      },
      "source": [
        "Ao fazer uma contagem na coluna *BadGroup*, percebemos que ela é composta por 4 atributos que variam de 0 a 4, como se fossem tipos ou classes de alguma coisa."
      ]
    },
    {
      "cell_type": "code",
      "metadata": {
        "id": "-M6iDkFZqU12",
        "colab": {
          "base_uri": "https://localhost:8080/"
        },
        "outputId": "de139dec-c698-40ef-b859-9d1f022b4315"
      },
      "source": [
        "badgroup_sum = badgroup.value_counts()\n",
        "badgroup_sum = badgroup_sum.sort_index()\n",
        "plt.bar(badgroup_sum.index,badgroup_sum)\n",
        "plt.xticks(badgroup_sum.index)\n",
        "plt.title('BadGroup')"
      ],
      "execution_count": null,
      "outputs": [
        {
          "output_type": "execute_result",
          "data": {
            "text/plain": [
              "Text(0.5, 1.0, 'BadGroup')"
            ]
          },
          "metadata": {},
          "execution_count": 639
        },
        {
          "output_type": "display_data",
          "data": {
            "image/png": "[encoded data removed]",
            "text/plain": [
              "<Figure size 432x288 with 1 Axes>"
            ]
          },
          "metadata": {
            "needs_background": "light"
          }
        }
      ]
    },
    {
      "cell_type": "markdown",
      "metadata": {
        "id": "CBggjyd2qa34"
      },
      "source": [
        "Classificações do tipo 0 são disparadas as mais presentes, enquanto classificações do tipo 3 são raríssimas"
      ]
    },
    {
      "cell_type": "markdown",
      "metadata": {
        "id": "7KdBKzY9jhs9"
      },
      "source": [
        "##### Outcome"
      ]
    },
    {
      "cell_type": "markdown",
      "metadata": {
        "id": "pcR6H39zjlw4"
      },
      "source": [
        "A classe outcome aparenta tratar sobre status de atividade e inatividade. Vamos analisar essa coluna."
      ]
    },
    {
      "cell_type": "code",
      "metadata": {
        "id": "mZ44YyiRj3ed",
        "colab": {
          "base_uri": "https://localhost:8080/"
        },
        "outputId": "af2a9419-bcd0-407e-9ba6-6c22f5ab8ac8"
      },
      "source": [
        "outcome = dataset['Outcome']\n",
        "outcome.groupby(outcome).count()"
      ],
      "execution_count": null,
      "outputs": [
        {
          "output_type": "execute_result",
          "data": {
            "text/plain": [
              "Outcome\n",
              "Active       12\n",
              "Inactive    844\n",
              "Name: Outcome, dtype: int64"
            ]
          },
          "metadata": {},
          "execution_count": 640
        }
      ]
    },
    {
      "cell_type": "code",
      "metadata": {
        "id": "czeEeJ8DlZCb",
        "colab": {
          "base_uri": "https://localhost:8080/"
        },
        "outputId": "bb063524-be49-4204-ca77-36cac5a7367c"
      },
      "source": [
        "outcome_sum = outcome.value_counts()\n",
        "outcome_sum = outcome_sum.sort_index()\n",
        "plt.bar(outcome_sum.index, outcome_sum)\n",
        "plt.xticks(outcome_sum.index)\n",
        "plt.title('Outcome')"
      ],
      "execution_count": null,
      "outputs": [
        {
          "output_type": "execute_result",
          "data": {
            "text/plain": [
              "Text(0.5, 1.0, 'Outcome')"
            ]
          },
          "metadata": {},
          "execution_count": 641
        },
        {
          "output_type": "display_data",
          "data": {
            "image/png": "[encoded data removed]",
            "text/plain": [
              "<Figure size 432x288 with 1 Axes>"
            ]
          },
          "metadata": {
            "needs_background": "light"
          }
        }
      ]
    },
    {
      "cell_type": "markdown",
      "metadata": {
        "id": "ehpDa30zlK9W"
      },
      "source": [
        "Podemos perceber uma gigantesca diferença entre o número de outcomes ativos e o número de outcomes inativos do nosso dataset."
      ]
    },
    {
      "cell_type": "markdown",
      "metadata": {
        "id": "QqKhV8VwC8TW"
      },
      "source": [
        ".\n",
        "\n",
        "\n",
        "\n",
        "\n",
        "\n",
        "\n",
        "\n",
        "\n",
        "\n",
        "\n",
        "\n",
        "\n",
        "\n",
        ".\n",
        "\n",
        "\n"
      ]
    },
    {
      "cell_type": "markdown",
      "metadata": {
        "id": "uaoCCu5VCJZU"
      },
      "source": [
        "## Dataset 2"
      ]
    },
    {
      "cell_type": "markdown",
      "metadata": {
        "id": "_5bLjqkoET98"
      },
      "source": [
        "### Informações básicas\n"
      ]
    },
    {
      "cell_type": "markdown",
      "metadata": {
        "id": "7fi06NqFEYKV"
      },
      "source": [
        "Nessa primeira parte, estamos importando o dataset que colocamos na pasta \"sample_data\" e vendo seu formato, suas 5 primeiras linhas, informações sobre ele e se temos algum valor duplicado."
      ]
    },
    {
      "cell_type": "code",
      "metadata": {
        "id": "AjcCKGi37G8N"
      },
      "source": [
        "dataframe = pd.read_csv('sample_data/UFFdatasetLab2.csv', na_values='?')"
      ],
      "execution_count": null,
      "outputs": []
    },
    {
      "cell_type": "markdown",
      "metadata": {
        "id": "VvSETB7q7G8O"
      },
      "source": [
        "Nosso primeiro dataset tem 1000 linhas e 21 colunas."
      ]
    },
    {
      "cell_type": "code",
      "metadata": {
        "id": "-9OfSXch7G8O",
        "colab": {
          "base_uri": "https://localhost:8080/"
        },
        "outputId": "eeda312a-5103-47e8-b23a-941962bac1d3"
      },
      "source": [
        "dataframe.shape"
      ],
      "execution_count": null,
      "outputs": [
        {
          "output_type": "execute_result",
          "data": {
            "text/plain": [
              "(1000, 21)"
            ]
          },
          "metadata": {},
          "execution_count": 643
        }
      ]
    },
    {
      "cell_type": "code",
      "metadata": {
        "id": "V9LiD_dd7G8O",
        "colab": {
          "base_uri": "https://localhost:8080/"
        },
        "outputId": "c8f643c7-ec0b-47ee-c6bc-a7e9714b0a74"
      },
      "source": [
        "dataframe.head()"
      ],
      "execution_count": null,
      "outputs": [
        {
          "output_type": "execute_result",
          "data": {
            "text/html": [
              "<div>\n",
              "<style scoped>\n",
              "    .dataframe tbody tr th:only-of-type {\n",
              "        vertical-align: middle;\n",
              "    }\n",
              "\n",
              "    .dataframe tbody tr th {\n",
              "        vertical-align: top;\n",
              "    }\n",
              "\n",
              "    .dataframe thead th {\n",
              "        text-align: right;\n",
              "    }\n",
              "</style>\n",
              "<table border=\"1\" class=\"dataframe\">\n",
              "  <thead>\n",
              "    <tr style=\"text-align: right;\">\n",
              "      <th></th>\n",
              "      <th>checking_status</th>\n",
              "      <th>duration</th>\n",
              "      <th>credit_history</th>\n",
              "      <th>purpose</th>\n",
              "      <th>credit_amount</th>\n",
              "      <th>savings_status</th>\n",
              "      <th>employment</th>\n",
              "      <th>installment_commitment</th>\n",
              "      <th>personal_status</th>\n",
              "      <th>other_parties</th>\n",
              "      <th>residence_since</th>\n",
              "      <th>property_magnitude</th>\n",
              "      <th>age</th>\n",
              "      <th>other_payment_plans</th>\n",
              "      <th>housing</th>\n",
              "      <th>existing_credits</th>\n",
              "      <th>job</th>\n",
              "      <th>num_dependents</th>\n",
              "      <th>own_telephone</th>\n",
              "      <th>foreign_worker</th>\n",
              "      <th>class</th>\n",
              "    </tr>\n",
              "  </thead>\n",
              "  <tbody>\n",
              "    <tr>\n",
              "      <th>0</th>\n",
              "      <td>&lt;0</td>\n",
              "      <td>6.0</td>\n",
              "      <td>'critical/other existing credit'</td>\n",
              "      <td>radio/tv</td>\n",
              "      <td>1169.0</td>\n",
              "      <td>NaN</td>\n",
              "      <td>&gt;=7</td>\n",
              "      <td>4.0</td>\n",
              "      <td>'male single'</td>\n",
              "      <td>none</td>\n",
              "      <td>4.0</td>\n",
              "      <td>'real estate'</td>\n",
              "      <td>67.0</td>\n",
              "      <td>none</td>\n",
              "      <td>own</td>\n",
              "      <td>2.0</td>\n",
              "      <td>skilled</td>\n",
              "      <td>1.0</td>\n",
              "      <td>yes</td>\n",
              "      <td>yes</td>\n",
              "      <td>good</td>\n",
              "    </tr>\n",
              "    <tr>\n",
              "      <th>1</th>\n",
              "      <td>0&lt;=X&lt;200</td>\n",
              "      <td>48.0</td>\n",
              "      <td>NaN</td>\n",
              "      <td>radio/tv</td>\n",
              "      <td>5951.0</td>\n",
              "      <td>&lt;100</td>\n",
              "      <td>1&lt;=X&lt;4</td>\n",
              "      <td>2.0</td>\n",
              "      <td>'female div/dep/mar'</td>\n",
              "      <td>none</td>\n",
              "      <td>2.0</td>\n",
              "      <td>'real estate'</td>\n",
              "      <td>NaN</td>\n",
              "      <td>none</td>\n",
              "      <td>own</td>\n",
              "      <td>1.0</td>\n",
              "      <td>skilled</td>\n",
              "      <td>1.0</td>\n",
              "      <td>none</td>\n",
              "      <td>yes</td>\n",
              "      <td>bad</td>\n",
              "    </tr>\n",
              "    <tr>\n",
              "      <th>2</th>\n",
              "      <td>'no checking'</td>\n",
              "      <td>12.0</td>\n",
              "      <td>'critical/other existing credit'</td>\n",
              "      <td>NaN</td>\n",
              "      <td>2096.0</td>\n",
              "      <td>&lt;100</td>\n",
              "      <td>4&lt;=X&lt;7</td>\n",
              "      <td>2.0</td>\n",
              "      <td>'male single'</td>\n",
              "      <td>none</td>\n",
              "      <td>3.0</td>\n",
              "      <td>'real estate'</td>\n",
              "      <td>49.0</td>\n",
              "      <td>none</td>\n",
              "      <td>own</td>\n",
              "      <td>1.0</td>\n",
              "      <td>'unskilled resident'</td>\n",
              "      <td>2.0</td>\n",
              "      <td>none</td>\n",
              "      <td>yes</td>\n",
              "      <td>bad</td>\n",
              "    </tr>\n",
              "    <tr>\n",
              "      <th>3</th>\n",
              "      <td>&lt;0</td>\n",
              "      <td>42.0</td>\n",
              "      <td>'existing paid'</td>\n",
              "      <td>furniture/equipment</td>\n",
              "      <td>7882.0</td>\n",
              "      <td>&lt;100</td>\n",
              "      <td>4&lt;=X&lt;7</td>\n",
              "      <td>2.0</td>\n",
              "      <td>'male single'</td>\n",
              "      <td>guarantor</td>\n",
              "      <td>4.0</td>\n",
              "      <td>'life insurance'</td>\n",
              "      <td>45.0</td>\n",
              "      <td>none</td>\n",
              "      <td>'for free'</td>\n",
              "      <td>1.0</td>\n",
              "      <td>skilled</td>\n",
              "      <td>2.0</td>\n",
              "      <td>none</td>\n",
              "      <td>yes</td>\n",
              "      <td>good</td>\n",
              "    </tr>\n",
              "    <tr>\n",
              "      <th>4</th>\n",
              "      <td>NaN</td>\n",
              "      <td>24.0</td>\n",
              "      <td>'delayed previously'</td>\n",
              "      <td>'new car'</td>\n",
              "      <td>4870.0</td>\n",
              "      <td>&lt;100</td>\n",
              "      <td>1&lt;=X&lt;4</td>\n",
              "      <td>3.0</td>\n",
              "      <td>'male single'</td>\n",
              "      <td>none</td>\n",
              "      <td>4.0</td>\n",
              "      <td>'no known property'</td>\n",
              "      <td>53.0</td>\n",
              "      <td>none</td>\n",
              "      <td>NaN</td>\n",
              "      <td>2.0</td>\n",
              "      <td>NaN</td>\n",
              "      <td>2.0</td>\n",
              "      <td>NaN</td>\n",
              "      <td>NaN</td>\n",
              "      <td>bad</td>\n",
              "    </tr>\n",
              "  </tbody>\n",
              "</table>\n",
              "</div>"
            ],
            "text/plain": [
              "  checking_status  duration  ... foreign_worker class\n",
              "0              <0       6.0  ...            yes  good\n",
              "1        0<=X<200      48.0  ...            yes   bad\n",
              "2   'no checking'      12.0  ...            yes   bad\n",
              "3              <0      42.0  ...            yes  good\n",
              "4             NaN      24.0  ...            NaN   bad\n",
              "\n",
              "[5 rows x 21 columns]"
            ]
          },
          "metadata": {},
          "execution_count": 644
        }
      ]
    },
    {
      "cell_type": "code",
      "metadata": {
        "id": "uHKRynaY7G8P",
        "colab": {
          "base_uri": "https://localhost:8080/"
        },
        "outputId": "43d62e5d-9c9e-4b32-9104-f1aec16cd656"
      },
      "source": [
        "dataframe.info()"
      ],
      "execution_count": null,
      "outputs": [
        {
          "output_type": "stream",
          "name": "stdout",
          "text": [
            "<class 'pandas.core.frame.DataFrame'>\n",
            "RangeIndex: 1000 entries, 0 to 999\n",
            "Data columns (total 21 columns):\n",
            " #   Column                  Non-Null Count  Dtype  \n",
            "---  ------                  --------------  -----  \n",
            " 0   checking_status         890 non-null    object \n",
            " 1   duration                885 non-null    float64\n",
            " 2   credit_history          899 non-null    object \n",
            " 3   purpose                 892 non-null    object \n",
            " 4   credit_amount           905 non-null    float64\n",
            " 5   savings_status          911 non-null    object \n",
            " 6   employment              896 non-null    object \n",
            " 7   installment_commitment  896 non-null    float64\n",
            " 8   personal_status         906 non-null    object \n",
            " 9   other_parties           902 non-null    object \n",
            " 10  residence_since         903 non-null    float64\n",
            " 11  property_magnitude      909 non-null    object \n",
            " 12  age                     910 non-null    float64\n",
            " 13  other_payment_plans     892 non-null    object \n",
            " 14  housing                 898 non-null    object \n",
            " 15  existing_credits        899 non-null    float64\n",
            " 16  job                     908 non-null    object \n",
            " 17  num_dependents          883 non-null    float64\n",
            " 18  own_telephone           897 non-null    object \n",
            " 19  foreign_worker          878 non-null    object \n",
            " 20  class                   1000 non-null   object \n",
            "dtypes: float64(7), object(14)\n",
            "memory usage: 164.2+ KB\n"
          ]
        }
      ]
    },
    {
      "cell_type": "markdown",
      "metadata": {
        "id": "KCzZ72_C9B-j"
      },
      "source": [
        "Aqui, vemos que não temos valores duplicados."
      ]
    },
    {
      "cell_type": "code",
      "metadata": {
        "id": "o_6Y_Z-98xlP",
        "colab": {
          "base_uri": "https://localhost:8080/"
        },
        "outputId": "75d3ca89-4dca-4726-975c-6c37b5bc799a"
      },
      "source": [
        "dataframe.duplicated().value_counts()"
      ],
      "execution_count": null,
      "outputs": [
        {
          "output_type": "execute_result",
          "data": {
            "text/plain": [
              "False    1000\n",
              "dtype: int64"
            ]
          },
          "metadata": {},
          "execution_count": 646
        }
      ]
    },
    {
      "cell_type": "markdown",
      "metadata": {
        "id": "ur1aDm2P_x85"
      },
      "source": [
        "### Busca por *missing values*"
      ]
    },
    {
      "cell_type": "markdown",
      "metadata": {
        "id": "DPtjKzgo7G8P"
      },
      "source": [
        "Aqui, vamos procurar e plotar valores nulos. A função *isna()* (is not available) retorna os valores ausentes no nosso dataset. Fizemos a aplicação da função *sum()* para ver o total de valores faltantes em cada coluna. Neste caso, podemos ver que temos valores faltantes em praticamente todas as colunas do dataset."
      ]
    },
    {
      "cell_type": "code",
      "metadata": {
        "id": "9ra3AgmH7G8P",
        "colab": {
          "base_uri": "https://localhost:8080/"
        },
        "outputId": "231b8b27-2fe6-4e8a-c57a-329fd95cb720"
      },
      "source": [
        "dataframe.isna().sum()"
      ],
      "execution_count": null,
      "outputs": [
        {
          "output_type": "execute_result",
          "data": {
            "text/plain": [
              "checking_status           110\n",
              "duration                  115\n",
              "credit_history            101\n",
              "purpose                   108\n",
              "credit_amount              95\n",
              "savings_status             89\n",
              "employment                104\n",
              "installment_commitment    104\n",
              "personal_status            94\n",
              "other_parties              98\n",
              "residence_since            97\n",
              "property_magnitude         91\n",
              "age                        90\n",
              "other_payment_plans       108\n",
              "housing                   102\n",
              "existing_credits          101\n",
              "job                        92\n",
              "num_dependents            117\n",
              "own_telephone             103\n",
              "foreign_worker            122\n",
              "class                       0\n",
              "dtype: int64"
            ]
          },
          "metadata": {},
          "execution_count": 647
        }
      ]
    },
    {
      "cell_type": "code",
      "metadata": {
        "id": "-zjZkSsh7G8P",
        "colab": {
          "base_uri": "https://localhost:8080/",
          "height": 761
        },
        "outputId": "e5c1c968-d3cf-41c9-c127-99a3661f834d"
      },
      "source": [
        "msno.matrix(dataframe)"
      ],
      "execution_count": null,
      "outputs": [
        {
          "output_type": "execute_result",
          "data": {
            "text/plain": [
              "<matplotlib.axes._subplots.AxesSubplot at 0x7f5083988b90>"
            ]
          },
          "metadata": {},
          "execution_count": 648
        },
        {
          "output_type": "display_data",
          "data": {
            "image/png": "[encoded data removed]",
            "text/plain": [
              "<Figure size 1800x720 with 2 Axes>"
            ]
          },
          "metadata": {
            "needs_background": "light"
          }
        }
      ]
    },
    {
      "cell_type": "markdown",
      "metadata": {
        "id": "LWJ2Q0jV7G8Q"
      },
      "source": [
        "No gráfico acima, podemos observar visualmente o que foi mostrado pela linha de codigo:\n",
        "\n",
        "```\n",
        "dataframe.isna().sum()\n",
        "```\n",
        "Somente a coluna *class* não tem valores faltantes, enquanto todas as outras apresentam. Por causa disso, não corremos o risco de ter linhas inteiras com valores faltantes, mas vamos fazer uma verificação de qualquer linha nula que for encontrada em nossso dataframe para desencargo de consciência. Como o esperado, nosso dataset continua com 1000 linhas, o que reafirma que não temos linhas inteiras não nulas que precisassem ser removidas. Para resolver os missing values, vamos preencher os valores faltantes com os valores mais frequentes do nosso dataframe.\n",
        "\n",
        "---\n",
        "\n"
      ]
    },
    {
      "cell_type": "code",
      "metadata": {
        "colab": {
          "base_uri": "https://localhost:8080/",
          "height": 761
        },
        "id": "_iJsBBAtSgf3",
        "outputId": "92b45c3d-d346-4dd7-83c9-f9344d6dd819"
      },
      "source": [
        "imp=SimpleImputer(missing_values=np.nan,strategy='most_frequent')\n",
        "df=pd.DataFrame(imp.fit_transform(dataframe))\n",
        "df.columns=dataframe.columns\n",
        "df.index=dataframe.index\n",
        "msno.matrix(df)"
      ],
      "execution_count": null,
      "outputs": [
        {
          "output_type": "execute_result",
          "data": {
            "text/plain": [
              "<matplotlib.axes._subplots.AxesSubplot at 0x7f50843d4c90>"
            ]
          },
          "metadata": {},
          "execution_count": 649
        },
        {
          "output_type": "display_data",
          "data": {
            "image/png": "[encoded data removed]",
            "text/plain": [
              "<Figure size 1800x720 with 2 Axes>"
            ]
          },
          "metadata": {
            "needs_background": "light"
          }
        }
      ]
    },
    {
      "cell_type": "markdown",
      "metadata": {
        "id": "iQ5r-JMeQMqW"
      },
      "source": [
        "### Outliers"
      ]
    },
    {
      "cell_type": "markdown",
      "metadata": {
        "id": "lHAEE8LLQaPS"
      },
      "source": [
        "Para trabalhar com outliers nesse dataset, escolhemos as colunas com valores númericos para plotar os gráficos e fazer a remoção dos outliers. São elas:\n",
        "\n",
        "\n",
        "1. duration\n",
        "2. installment_commitment\n",
        "3. residence_since\n",
        "4. age\n",
        "5. existing_credits\n",
        "6. num_dependents\n",
        "\n"
      ]
    },
    {
      "cell_type": "code",
      "metadata": {
        "id": "KylKrG0kRaVG"
      },
      "source": [
        "duration = df['duration']\n",
        "installment_commitment = df['installment_commitment']\n",
        "residence_since = df['residence_since']\n",
        "age = df['age']\n",
        "existing_credits = df['existing_credits']\n",
        "num_dependents = df['num_dependents']"
      ],
      "execution_count": null,
      "outputs": []
    },
    {
      "cell_type": "markdown",
      "metadata": {
        "id": "NeNsx1SuRXuN"
      },
      "source": [
        "#### Plotando gráficos"
      ]
    },
    {
      "cell_type": "code",
      "metadata": {
        "colab": {
          "base_uri": "https://localhost:8080/"
        },
        "id": "j3yKHEKMUFyS",
        "outputId": "05ea9541-5ff3-4573-fc09-29494e1fccb4"
      },
      "source": [
        "sns.boxplot(x=duration)"
      ],
      "execution_count": null,
      "outputs": [
        {
          "output_type": "execute_result",
          "data": {
            "text/plain": [
              "<matplotlib.axes._subplots.AxesSubplot at 0x7f5083bfaf10>"
            ]
          },
          "metadata": {},
          "execution_count": 651
        },
        {
          "output_type": "display_data",
          "data": {
            "image/png": "[encoded data removed]",
            "text/plain": [
              "<Figure size 432x288 with 1 Axes>"
            ]
          },
          "metadata": {
            "needs_background": "light"
          }
        }
      ]
    },
    {
      "cell_type": "code",
      "metadata": {
        "colab": {
          "base_uri": "https://localhost:8080/"
        },
        "id": "7JUzguRNUMlh",
        "outputId": "87041329-10f4-4ed7-8d91-b7c9760ac19d"
      },
      "source": [
        "sns.boxplot(x=installment_commitment)"
      ],
      "execution_count": null,
      "outputs": [
        {
          "output_type": "execute_result",
          "data": {
            "text/plain": [
              "<matplotlib.axes._subplots.AxesSubplot at 0x7f5082d89c10>"
            ]
          },
          "metadata": {},
          "execution_count": 652
        },
        {
          "output_type": "display_data",
          "data": {
            "image/png": "[encoded data removed]",
            "text/plain": [
              "<Figure size 432x288 with 1 Axes>"
            ]
          },
          "metadata": {
            "needs_background": "light"
          }
        }
      ]
    },
    {
      "cell_type": "code",
      "metadata": {
        "colab": {
          "base_uri": "https://localhost:8080/"
        },
        "id": "CAZsN9gYUOuX",
        "outputId": "cb252550-7a38-4f3e-ec84-3620ddd38e36"
      },
      "source": [
        "sns.boxplot(x=residence_since)"
      ],
      "execution_count": null,
      "outputs": [
        {
          "output_type": "execute_result",
          "data": {
            "text/plain": [
              "<matplotlib.axes._subplots.AxesSubplot at 0x7f5082d6b790>"
            ]
          },
          "metadata": {},
          "execution_count": 653
        },
        {
          "output_type": "display_data",
          "data": {
            "image/png": "[encoded data removed]",
            "text/plain": [
              "<Figure size 432x288 with 1 Axes>"
            ]
          },
          "metadata": {
            "needs_background": "light"
          }
        }
      ]
    },
    {
      "cell_type": "code",
      "metadata": {
        "colab": {
          "base_uri": "https://localhost:8080/"
        },
        "id": "79p-kV1yUQpV",
        "outputId": "3fbb688f-7004-4209-c93e-30280e5fa3d7"
      },
      "source": [
        "sns.boxplot(x=age)"
      ],
      "execution_count": null,
      "outputs": [
        {
          "output_type": "execute_result",
          "data": {
            "text/plain": [
              "<matplotlib.axes._subplots.AxesSubplot at 0x7f5082ce1310>"
            ]
          },
          "metadata": {},
          "execution_count": 654
        },
        {
          "output_type": "display_data",
          "data": {
            "image/png": "[encoded data removed]",
            "text/plain": [
              "<Figure size 432x288 with 1 Axes>"
            ]
          },
          "metadata": {
            "needs_background": "light"
          }
        }
      ]
    },
    {
      "cell_type": "code",
      "metadata": {
        "colab": {
          "base_uri": "https://localhost:8080/"
        },
        "id": "wCX8LTPKUTdG",
        "outputId": "2ec2c79d-f0ef-4400-d91e-07fc7e49d986"
      },
      "source": [
        "sns.boxplot(x=existing_credits)"
      ],
      "execution_count": null,
      "outputs": [
        {
          "output_type": "execute_result",
          "data": {
            "text/plain": [
              "<matplotlib.axes._subplots.AxesSubplot at 0x7f5082cc6a90>"
            ]
          },
          "metadata": {},
          "execution_count": 655
        },
        {
          "output_type": "display_data",
          "data": {
            "image/png": "[encoded data removed]",
            "text/plain": [
              "<Figure size 432x288 with 1 Axes>"
            ]
          },
          "metadata": {
            "needs_background": "light"
          }
        }
      ]
    },
    {
      "cell_type": "code",
      "metadata": {
        "colab": {
          "base_uri": "https://localhost:8080/"
        },
        "id": "ATlz_baxUW4s",
        "outputId": "a92702fd-48f8-4bce-9988-a6daddf03784"
      },
      "source": [
        "sns.boxplot(num_dependents)"
      ],
      "execution_count": null,
      "outputs": [
        {
          "output_type": "stream",
          "name": "stderr",
          "text": [
            "/usr/local/lib/python3.7/dist-packages/seaborn/_decorators.py:43: FutureWarning: Pass the following variable as a keyword arg: x. From version 0.12, the only valid positional argument will be `data`, and passing other arguments without an explicit keyword will result in an error or misinterpretation.\n",
            "  FutureWarning\n"
          ]
        },
        {
          "output_type": "execute_result",
          "data": {
            "text/plain": [
              "<matplotlib.axes._subplots.AxesSubplot at 0x7f5082c07450>"
            ]
          },
          "metadata": {},
          "execution_count": 656
        },
        {
          "output_type": "display_data",
          "data": {
            "image/png": "[encoded data removed]",
            "text/plain": [
              "<Figure size 432x288 with 1 Axes>"
            ]
          },
          "metadata": {
            "needs_background": "light"
          }
        }
      ]
    },
    {
      "cell_type": "markdown",
      "metadata": {
        "id": "cpia1NOOUorq"
      },
      "source": [
        "#### Removendo outliers"
      ]
    },
    {
      "cell_type": "code",
      "metadata": {
        "colab": {
          "base_uri": "https://localhost:8080/"
        },
        "id": "2tEU92obVHdL",
        "outputId": "6e4d6b47-6403-4a81-b0cf-3545657cf38e"
      },
      "source": [
        "Q1=duration.quantile(0.25)\n",
        "Q3=duration.quantile(0.75)\n",
        "IQR=Q3-Q1\n",
        "lowqe_bound=Q1 - 1.5 * IQR\n",
        "upper_bound=Q3 + 1.5 * IQR\n",
        "IQR_duration = duration[~((duration < lowqe_bound) |(duration > upper_bound))]\n",
        "sns.boxplot(x=IQR_duration)"
      ],
      "execution_count": null,
      "outputs": [
        {
          "output_type": "execute_result",
          "data": {
            "text/plain": [
              "<matplotlib.axes._subplots.AxesSubplot at 0x7f5082b92b90>"
            ]
          },
          "metadata": {},
          "execution_count": 657
        },
        {
          "output_type": "display_data",
          "data": {
            "image/png": "[encoded data removed]",
            "text/plain": [
              "<Figure size 432x288 with 1 Axes>"
            ]
          },
          "metadata": {
            "needs_background": "light"
          }
        }
      ]
    },
    {
      "cell_type": "code",
      "metadata": {
        "colab": {
          "base_uri": "https://localhost:8080/"
        },
        "id": "nUggOeHUVZwO",
        "outputId": "30b021c7-c406-4926-a2f0-0385ad7c22c5"
      },
      "source": [
        "Q1=installment_commitment.quantile(0.25)\n",
        "Q3=installment_commitment.quantile(0.75)\n",
        "IQR=Q3-Q1\n",
        "lowqe_bound=Q1 - 1.5 * IQR\n",
        "upper_bound=Q3 + 1.5 * IQR\n",
        "IQR_installment_commitment = installment_commitment[~((installment_commitment < lowqe_bound) |(installment_commitment > upper_bound))]\n",
        "sns.boxplot(x=IQR_installment_commitment)"
      ],
      "execution_count": null,
      "outputs": [
        {
          "output_type": "execute_result",
          "data": {
            "text/plain": [
              "<matplotlib.axes._subplots.AxesSubplot at 0x7f5082b60b90>"
            ]
          },
          "metadata": {},
          "execution_count": 658
        },
        {
          "output_type": "display_data",
          "data": {
            "image/png": "[encoded data removed]",
            "text/plain": [
              "<Figure size 432x288 with 1 Axes>"
            ]
          },
          "metadata": {
            "needs_background": "light"
          }
        }
      ]
    },
    {
      "cell_type": "code",
      "metadata": {
        "colab": {
          "base_uri": "https://localhost:8080/"
        },
        "id": "-U-_7vvwVlMv",
        "outputId": "cc138fd0-e2d5-4b0f-9d09-c70d156a3d7b"
      },
      "source": [
        "Q1=residence_since.quantile(0.25)\n",
        "Q3=residence_since.quantile(0.75)\n",
        "IQR=Q3-Q1\n",
        "lowqe_bound=Q1 - 1.5 * IQR\n",
        "upper_bound=Q3 + 1.5 * IQR\n",
        "IQR_residence_since = residence_since[~((residence_since < lowqe_bound) |(residence_since > upper_bound))]\n",
        "sns.boxplot(x=IQR_residence_since)"
      ],
      "execution_count": null,
      "outputs": [
        {
          "output_type": "execute_result",
          "data": {
            "text/plain": [
              "<matplotlib.axes._subplots.AxesSubplot at 0x7f5082ad8550>"
            ]
          },
          "metadata": {},
          "execution_count": 659
        },
        {
          "output_type": "display_data",
          "data": {
            "image/png": "[encoded data removed]",
            "text/plain": [
              "<Figure size 432x288 with 1 Axes>"
            ]
          },
          "metadata": {
            "needs_background": "light"
          }
        }
      ]
    },
    {
      "cell_type": "code",
      "metadata": {
        "colab": {
          "base_uri": "https://localhost:8080/"
        },
        "id": "qvHN6vRxWFjr",
        "outputId": "a9b9272d-1ed1-4419-bee4-171b863b269d"
      },
      "source": [
        "Q1=age.quantile(0.25)\n",
        "Q3=age.quantile(0.75)\n",
        "IQR=Q3-Q1\n",
        "lowqe_bound=Q1 - 1.5 * IQR\n",
        "upper_bound=Q3 + 1.5 * IQR\n",
        "IQR_age = age[~((age < lowqe_bound) |(age > upper_bound))]\n",
        "sns.boxplot(x=IQR_age)"
      ],
      "execution_count": null,
      "outputs": [
        {
          "output_type": "execute_result",
          "data": {
            "text/plain": [
              "<matplotlib.axes._subplots.AxesSubplot at 0x7f5082ab4110>"
            ]
          },
          "metadata": {},
          "execution_count": 660
        },
        {
          "output_type": "display_data",
          "data": {
            "image/png": "[encoded data removed]",
            "text/plain": [
              "<Figure size 432x288 with 1 Axes>"
            ]
          },
          "metadata": {
            "needs_background": "light"
          }
        }
      ]
    },
    {
      "cell_type": "code",
      "metadata": {
        "colab": {
          "base_uri": "https://localhost:8080/"
        },
        "id": "25cdN-aCWTAl",
        "outputId": "a2f56749-b8bf-4977-a985-11f1448c66d6"
      },
      "source": [
        "Q1=existing_credits.quantile(0.25)\n",
        "Q3=existing_credits.quantile(0.75)\n",
        "IQR=Q3-Q1\n",
        "lowqe_bound=Q1 - 1.5 * IQR\n",
        "upper_bound=Q3 + 1.5 * IQR\n",
        "IQR_existing_credits = existing_credits[~((existing_credits < lowqe_bound) |(existing_credits > upper_bound))]\n",
        "sns.boxplot(x=IQR_existing_credits)"
      ],
      "execution_count": null,
      "outputs": [
        {
          "output_type": "execute_result",
          "data": {
            "text/plain": [
              "<matplotlib.axes._subplots.AxesSubplot at 0x7f5082a39fd0>"
            ]
          },
          "metadata": {},
          "execution_count": 661
        },
        {
          "output_type": "display_data",
          "data": {
            "image/png": "[encoded data removed]",
            "text/plain": [
              "<Figure size 432x288 with 1 Axes>"
            ]
          },
          "metadata": {
            "needs_background": "light"
          }
        }
      ]
    },
    {
      "cell_type": "code",
      "metadata": {
        "colab": {
          "base_uri": "https://localhost:8080/"
        },
        "id": "gDiaU0YUWdHM",
        "outputId": "ec382d62-4a21-4443-cdaa-00c9674c5596"
      },
      "source": [
        "Q1=num_dependents.quantile(0.25)\n",
        "Q3=num_dependents.quantile(0.75)\n",
        "IQR=Q3-Q1\n",
        "lowqe_bound=Q1 - 1.5 * IQR\n",
        "upper_bound=Q3 + 1.5 * IQR\n",
        "IQR_num_dependents = num_dependents[~((num_dependents < lowqe_bound) |(num_dependents > upper_bound))]\n",
        "sns.boxplot(x=IQR_num_dependents)"
      ],
      "execution_count": null,
      "outputs": [
        {
          "output_type": "execute_result",
          "data": {
            "text/plain": [
              "<matplotlib.axes._subplots.AxesSubplot at 0x7f50829a73d0>"
            ]
          },
          "metadata": {},
          "execution_count": 662
        },
        {
          "output_type": "display_data",
          "data": {
            "image/png": "[encoded data removed]",
            "text/plain": [
              "<Figure size 432x288 with 1 Axes>"
            ]
          },
          "metadata": {
            "needs_background": "light"
          }
        }
      ]
    },
    {
      "cell_type": "markdown",
      "metadata": {
        "id": "_n4HLBa_WxJZ"
      },
      "source": [
        "#### Para desencargo de consciência, faremos a mesma análise dos outliers, só que dessa vez usando o dataset sem preenchimento de missing values."
      ]
    },
    {
      "cell_type": "code",
      "metadata": {
        "id": "6Z3c8EyhXISC"
      },
      "source": [
        "duration_ = dataframe['duration']\n",
        "installment_commitment_ = dataframe['installment_commitment']\n",
        "residence_since_ = dataframe['residence_since']\n",
        "age_ = dataframe['age']\n",
        "existing_credits_ = dataframe['existing_credits']\n",
        "num_dependents_ = dataframe['num_dependents']"
      ],
      "execution_count": null,
      "outputs": []
    },
    {
      "cell_type": "markdown",
      "metadata": {
        "id": "fXrP7bqXW9BN"
      },
      "source": [
        "##### Plotando gráficos"
      ]
    },
    {
      "cell_type": "code",
      "metadata": {
        "colab": {
          "base_uri": "https://localhost:8080/"
        },
        "id": "87Qzl4HvXeja",
        "outputId": "a03238f7-21cd-4713-b725-6411a7b72f68"
      },
      "source": [
        "sns.boxplot(x=duration_)"
      ],
      "execution_count": null,
      "outputs": [
        {
          "output_type": "execute_result",
          "data": {
            "text/plain": [
              "<matplotlib.axes._subplots.AxesSubplot at 0x7f5082986210>"
            ]
          },
          "metadata": {},
          "execution_count": 664
        },
        {
          "output_type": "display_data",
          "data": {
            "image/png": "[encoded data removed]",
            "text/plain": [
              "<Figure size 432x288 with 1 Axes>"
            ]
          },
          "metadata": {
            "needs_background": "light"
          }
        }
      ]
    },
    {
      "cell_type": "code",
      "metadata": {
        "colab": {
          "base_uri": "https://localhost:8080/"
        },
        "id": "Jxzw7G-WXeja",
        "outputId": "37adcb52-57ed-4e39-eb45-dcb53de71e96"
      },
      "source": [
        "sns.boxplot(x=installment_commitment_)"
      ],
      "execution_count": null,
      "outputs": [
        {
          "output_type": "execute_result",
          "data": {
            "text/plain": [
              "<matplotlib.axes._subplots.AxesSubplot at 0x7f50829aa5d0>"
            ]
          },
          "metadata": {},
          "execution_count": 665
        },
        {
          "output_type": "display_data",
          "data": {
            "image/png": "[encoded data removed]",
            "text/plain": [
              "<Figure size 432x288 with 1 Axes>"
            ]
          },
          "metadata": {
            "needs_background": "light"
          }
        }
      ]
    },
    {
      "cell_type": "code",
      "metadata": {
        "colab": {
          "base_uri": "https://localhost:8080/"
        },
        "id": "y08M-jWOXeja",
        "outputId": "ce332904-0509-4e82-f6c2-47a552ed794b"
      },
      "source": [
        "sns.boxplot(x=residence_since_)"
      ],
      "execution_count": null,
      "outputs": [
        {
          "output_type": "execute_result",
          "data": {
            "text/plain": [
              "<matplotlib.axes._subplots.AxesSubplot at 0x7f50828b5dd0>"
            ]
          },
          "metadata": {},
          "execution_count": 666
        },
        {
          "output_type": "display_data",
          "data": {
            "image/png": "[encoded data removed]",
            "text/plain": [
              "<Figure size 432x288 with 1 Axes>"
            ]
          },
          "metadata": {
            "needs_background": "light"
          }
        }
      ]
    },
    {
      "cell_type": "code",
      "metadata": {
        "colab": {
          "base_uri": "https://localhost:8080/"
        },
        "id": "XgCmN7s9Xeja",
        "outputId": "8d690fd2-aaeb-455a-dea0-86eb81c232d9"
      },
      "source": [
        "sns.boxplot(x=age_)"
      ],
      "execution_count": null,
      "outputs": [
        {
          "output_type": "execute_result",
          "data": {
            "text/plain": [
              "<matplotlib.axes._subplots.AxesSubplot at 0x7f5082872fd0>"
            ]
          },
          "metadata": {},
          "execution_count": 667
        },
        {
          "output_type": "display_data",
          "data": {
            "image/png": "[encoded data removed]",
            "text/plain": [
              "<Figure size 432x288 with 1 Axes>"
            ]
          },
          "metadata": {
            "needs_background": "light"
          }
        }
      ]
    },
    {
      "cell_type": "code",
      "metadata": {
        "colab": {
          "base_uri": "https://localhost:8080/"
        },
        "id": "gNVbN3ARXejb",
        "outputId": "4531c57d-7a9f-44b0-bb6f-02231a86a394"
      },
      "source": [
        "sns.boxplot(x=existing_credits_)"
      ],
      "execution_count": null,
      "outputs": [
        {
          "output_type": "execute_result",
          "data": {
            "text/plain": [
              "<matplotlib.axes._subplots.AxesSubplot at 0x7f5082824b90>"
            ]
          },
          "metadata": {},
          "execution_count": 668
        },
        {
          "output_type": "display_data",
          "data": {
            "image/png": "[encoded data removed]",
            "text/plain": [
              "<Figure size 432x288 with 1 Axes>"
            ]
          },
          "metadata": {
            "needs_background": "light"
          }
        }
      ]
    },
    {
      "cell_type": "code",
      "metadata": {
        "colab": {
          "base_uri": "https://localhost:8080/"
        },
        "id": "gt_Dm3t1Xejb",
        "outputId": "a7e728b0-de5b-4435-cc49-2d5a7654946b"
      },
      "source": [
        "sns.boxplot(num_dependents_)"
      ],
      "execution_count": null,
      "outputs": [
        {
          "output_type": "stream",
          "name": "stderr",
          "text": [
            "/usr/local/lib/python3.7/dist-packages/seaborn/_decorators.py:43: FutureWarning: Pass the following variable as a keyword arg: x. From version 0.12, the only valid positional argument will be `data`, and passing other arguments without an explicit keyword will result in an error or misinterpretation.\n",
            "  FutureWarning\n"
          ]
        },
        {
          "output_type": "execute_result",
          "data": {
            "text/plain": [
              "<matplotlib.axes._subplots.AxesSubplot at 0x7f50827717d0>"
            ]
          },
          "metadata": {},
          "execution_count": 669
        },
        {
          "output_type": "display_data",
          "data": {
            "image/png": "[encoded data removed]",
            "text/plain": [
              "<Figure size 432x288 with 1 Axes>"
            ]
          },
          "metadata": {
            "needs_background": "light"
          }
        }
      ]
    },
    {
      "cell_type": "markdown",
      "metadata": {
        "id": "O1V6027NXAhx"
      },
      "source": [
        "##### Removendo outliers"
      ]
    },
    {
      "cell_type": "code",
      "metadata": {
        "colab": {
          "base_uri": "https://localhost:8080/"
        },
        "id": "TIiajYqeXl7D",
        "outputId": "51bb7cac-283b-4108-e7ae-c1d466269c68"
      },
      "source": [
        "Q1=duration_.quantile(0.25)\n",
        "Q3=duration_.quantile(0.75)\n",
        "IQR=Q3-Q1\n",
        "lowqe_bound=Q1 - 1.5 * IQR\n",
        "upper_bound=Q3 + 1.5 * IQR\n",
        "IQR_duration_ = duration_[~((duration_ < lowqe_bound) |(duration_ > upper_bound))]\n",
        "sns.boxplot(x=IQR_duration_)"
      ],
      "execution_count": null,
      "outputs": [
        {
          "output_type": "execute_result",
          "data": {
            "text/plain": [
              "<matplotlib.axes._subplots.AxesSubplot at 0x7f50826de4d0>"
            ]
          },
          "metadata": {},
          "execution_count": 670
        },
        {
          "output_type": "display_data",
          "data": {
            "image/png": "[encoded data removed]",
            "text/plain": [
              "<Figure size 432x288 with 1 Axes>"
            ]
          },
          "metadata": {
            "needs_background": "light"
          }
        }
      ]
    },
    {
      "cell_type": "code",
      "metadata": {
        "colab": {
          "base_uri": "https://localhost:8080/"
        },
        "id": "yhiRdPkOXl7E",
        "outputId": "5e2b7a5a-1d3e-4bad-c10d-e69226ed685e"
      },
      "source": [
        "Q1=installment_commitment_.quantile(0.25)\n",
        "Q3=installment_commitment_.quantile(0.75)\n",
        "IQR=Q3-Q1\n",
        "lowqe_bound=Q1 - 1.5 * IQR\n",
        "upper_bound=Q3 + 1.5 * IQR\n",
        "IQR_installment_commitment_ = installment_commitment_[~((installment_commitment_ < lowqe_bound) |(installment_commitment_ > upper_bound))]\n",
        "sns.boxplot(x=IQR_installment_commitment_)"
      ],
      "execution_count": null,
      "outputs": [
        {
          "output_type": "execute_result",
          "data": {
            "text/plain": [
              "<matplotlib.axes._subplots.AxesSubplot at 0x7f5082dd6190>"
            ]
          },
          "metadata": {},
          "execution_count": 671
        },
        {
          "output_type": "display_data",
          "data": {
            "image/png": "[encoded data removed]",
            "text/plain": [
              "<Figure size 432x288 with 1 Axes>"
            ]
          },
          "metadata": {
            "needs_background": "light"
          }
        }
      ]
    },
    {
      "cell_type": "code",
      "metadata": {
        "colab": {
          "base_uri": "https://localhost:8080/"
        },
        "id": "vAaQBEjgXl7E",
        "outputId": "297e0a75-ea46-426d-fcaf-49e306429a5b"
      },
      "source": [
        "Q1=residence_since_.quantile(0.25)\n",
        "Q3=residence_since_.quantile(0.75)\n",
        "IQR=Q3-Q1\n",
        "lowqe_bound=Q1 - 1.5 * IQR\n",
        "upper_bound=Q3 + 1.5 * IQR\n",
        "IQR_residence_since_ = residence_since_[~((residence_since_ < lowqe_bound) |(residence_since_ > upper_bound))]\n",
        "sns.boxplot(x=IQR_residence_since_)"
      ],
      "execution_count": null,
      "outputs": [
        {
          "output_type": "execute_result",
          "data": {
            "text/plain": [
              "<matplotlib.axes._subplots.AxesSubplot at 0x7f50825d0290>"
            ]
          },
          "metadata": {},
          "execution_count": 672
        },
        {
          "output_type": "display_data",
          "data": {
            "image/png": "[encoded data removed]",
            "text/plain": [
              "<Figure size 432x288 with 1 Axes>"
            ]
          },
          "metadata": {
            "needs_background": "light"
          }
        }
      ]
    },
    {
      "cell_type": "code",
      "metadata": {
        "colab": {
          "base_uri": "https://localhost:8080/"
        },
        "id": "9qTAAxevXl7E",
        "outputId": "8b54f895-f51c-4dc6-ff82-1db3d110d30d"
      },
      "source": [
        "Q1=age_.quantile(0.25)\n",
        "Q3=age_.quantile(0.75)\n",
        "IQR=Q3-Q1\n",
        "lowqe_bound=Q1 - 1.5 * IQR\n",
        "upper_bound=Q3 + 1.5 * IQR\n",
        "IQR_age_ = age_[~((age_ < lowqe_bound) |(age_ > upper_bound))]\n",
        "sns.boxplot(x=IQR_age_)"
      ],
      "execution_count": null,
      "outputs": [
        {
          "output_type": "execute_result",
          "data": {
            "text/plain": [
              "<matplotlib.axes._subplots.AxesSubplot at 0x7f50825b0690>"
            ]
          },
          "metadata": {},
          "execution_count": 673
        },
        {
          "output_type": "display_data",
          "data": {
            "image/png": "[encoded data removed]",
            "text/plain": [
              "<Figure size 432x288 with 1 Axes>"
            ]
          },
          "metadata": {
            "needs_background": "light"
          }
        }
      ]
    },
    {
      "cell_type": "code",
      "metadata": {
        "colab": {
          "base_uri": "https://localhost:8080/"
        },
        "id": "nKAuNnK7Xl7F",
        "outputId": "6d29120d-0f45-4ffc-95d0-18885b0b411a"
      },
      "source": [
        "Q1=existing_credits_.quantile(0.25)\n",
        "Q3=existing_credits_.quantile(0.75)\n",
        "IQR=Q3-Q1\n",
        "lowqe_bound=Q1 - 1.5 * IQR\n",
        "upper_bound=Q3 + 1.5 * IQR\n",
        "IQR_existing_credits_ = existing_credits_[~((existing_credits_ < lowqe_bound) |(existing_credits_ > upper_bound))]\n",
        "sns.boxplot(x=IQR_existing_credits_)"
      ],
      "execution_count": null,
      "outputs": [
        {
          "output_type": "execute_result",
          "data": {
            "text/plain": [
              "<matplotlib.axes._subplots.AxesSubplot at 0x7f5082521310>"
            ]
          },
          "metadata": {},
          "execution_count": 674
        },
        {
          "output_type": "display_data",
          "data": {
            "image/png": "[encoded data removed]",
            "text/plain": [
              "<Figure size 432x288 with 1 Axes>"
            ]
          },
          "metadata": {
            "needs_background": "light"
          }
        }
      ]
    },
    {
      "cell_type": "code",
      "metadata": {
        "colab": {
          "base_uri": "https://localhost:8080/"
        },
        "id": "xkaVAiliXl7F",
        "outputId": "dc1e19a7-9b1e-4aef-ac95-a93455c11be3"
      },
      "source": [
        "Q1=num_dependents_.quantile(0.25)\n",
        "Q3=num_dependents_.quantile(0.75)\n",
        "IQR=Q3-Q1\n",
        "lowqe_bound=Q1 - 1.5 * IQR\n",
        "upper_bound=Q3 + 1.5 * IQR\n",
        "IQR_num_dependents_ = num_dependents_[~((num_dependents_ < lowqe_bound) |(num_dependents_ > upper_bound))]\n",
        "sns.boxplot(x=IQR_num_dependents_)"
      ],
      "execution_count": null,
      "outputs": [
        {
          "output_type": "execute_result",
          "data": {
            "text/plain": [
              "<matplotlib.axes._subplots.AxesSubplot at 0x7f50824f4690>"
            ]
          },
          "metadata": {},
          "execution_count": 675
        },
        {
          "output_type": "display_data",
          "data": {
            "image/png": "[encoded data removed]",
            "text/plain": [
              "<Figure size 432x288 with 1 Axes>"
            ]
          },
          "metadata": {
            "needs_background": "light"
          }
        }
      ]
    },
    {
      "cell_type": "markdown",
      "metadata": {
        "id": "wvO0naFEZPZS"
      },
      "source": [
        "### Outras considerações"
      ]
    },
    {
      "cell_type": "markdown",
      "metadata": {
        "id": "s16gcs3fiVUU"
      },
      "source": [
        "Para este dataset, tínhamos uma legenda com uma pequena explicação do que se tratavam os dados nesse [link](https://github.com/renatopp/arff-datasets/blob/master/classification/credit.g.arff), então conseguimos nos entender melhor nas análises."
      ]
    },
    {
      "cell_type": "code",
      "metadata": {
        "colab": {
          "base_uri": "https://localhost:8080/",
          "height": 268
        },
        "id": "HxtX2o4KfHtW",
        "outputId": "4b1c86ee-a554-46a2-fec1-a49ad632f343"
      },
      "source": [
        "ax = duration.value_counts(sort=False).plot.bar(rot=0,color='r')\n",
        "plt.show()"
      ],
      "execution_count": null,
      "outputs": [
        {
          "output_type": "display_data",
          "data": {
            "image/png": "[encoded data removed]",
            "text/plain": [
              "<Figure size 432x288 with 1 Axes>"
            ]
          },
          "metadata": {
            "needs_background": "light"
          }
        }
      ]
    },
    {
      "cell_type": "markdown",
      "metadata": {
        "id": "JCa8p55SfQkO"
      },
      "source": [
        "Ao tentar plotar o gráfico da coluna *duration*, percebemos que ele ficou muito confuso e incompreensível, então decidimos englobar os valores em classes menores para facilitar a visualização."
      ]
    },
    {
      "cell_type": "code",
      "metadata": {
        "colab": {
          "base_uri": "https://localhost:8080/",
          "height": 270
        },
        "id": "6XUJJoSKfpco",
        "outputId": "b39c395d-6f28-44d0-e11b-733ecff9ee0b"
      },
      "source": [
        "intervalo = [0, 12, 24, 36, 48, 60, 72]\n",
        "durationcut = pd.cut(duration, bins=intervalo, labels = [ 'até 1','1 a 2','2 a 3','3 a 4', '4 a 5', '5 a 6'])\n",
        "\n",
        "ax = durationcut.value_counts(sort=False).plot.bar(rot=0,color='r')\n",
        "plt.show()"
      ],
      "execution_count": null,
      "outputs": [
        {
          "output_type": "display_data",
          "data": {
            "image/png": "[encoded data removed]",
            "text/plain": [
              "<Figure size 432x288 with 1 Axes>"
            ]
          },
          "metadata": {
            "needs_background": "light"
          }
        }
      ]
    },
    {
      "cell_type": "markdown",
      "metadata": {
        "id": "oD0wi6BkjX8y"
      },
      "source": [
        "Esta coluna trata do tempo (duração) de crédito dos alemães. Podemos perceber que a contratação de crédito dos alemães se concentra em períodos pequenos, nos intervalos de 0 a 12 meses (até 1) e de 1 a 2 anos (1 a 2)"
      ]
    },
    {
      "cell_type": "code",
      "metadata": {
        "colab": {
          "base_uri": "https://localhost:8080/",
          "height": 268
        },
        "id": "0Tsfajy6tI64",
        "outputId": "d6b7816e-3057-4c76-c687-f960ba3fd62a"
      },
      "source": [
        "ax = age.value_counts(sort=False).plot.bar(rot=0,color='r')\n",
        "plt.show()"
      ],
      "execution_count": null,
      "outputs": [
        {
          "output_type": "display_data",
          "data": {
            "image/png": "[encoded data removed]",
            "text/plain": [
              "<Figure size 432x288 with 1 Axes>"
            ]
          },
          "metadata": {
            "needs_background": "light"
          }
        }
      ]
    },
    {
      "cell_type": "markdown",
      "metadata": {
        "id": "T0vA7IQ2tNUW"
      },
      "source": [
        "O gráfico da idade também ficou bastante confuso, então vamos mais uma vez organizar em blocos menores."
      ]
    },
    {
      "cell_type": "code",
      "metadata": {
        "colab": {
          "base_uri": "https://localhost:8080/",
          "height": 268
        },
        "id": "LzeDPmN1tVqE",
        "outputId": "e8db6c15-d441-49ec-ffb5-11d63166fb00"
      },
      "source": [
        "intervalo = [0, 20, 40, 60, 80, 100]\n",
        "durationcut = pd.cut(duration, bins=intervalo, labels = [ '0 a 20','20 a 40','40 a 60','60 a 80', '80 a 100'])\n",
        "\n",
        "ax = durationcut.value_counts(sort=False).plot.bar(rot=0,color='r')\n",
        "plt.show()"
      ],
      "execution_count": null,
      "outputs": [
        {
          "output_type": "display_data",
          "data": {
            "image/png": "[encoded data removed]",
            "text/plain": [
              "<Figure size 432x288 with 1 Axes>"
            ]
          },
          "metadata": {
            "needs_background": "light"
          }
        }
      ]
    },
    {
      "cell_type": "markdown",
      "metadata": {
        "id": "Sngejx5Otm2C"
      },
      "source": [
        "O maior numero de alemães contratantes de linhas de crédito tem entre 0 e 20 anos, seguidos de alemães de 20 a 40 anos."
      ]
    }
  ]
}